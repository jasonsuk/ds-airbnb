{
 "cells": [
  {
   "cell_type": "markdown",
   "metadata": {},
   "source": [
    "<a id=\"top\"></a>\n",
    "[Go to the bottom](#bottom)\n",
    "---"
   ]
  },
  {
   "cell_type": "markdown",
   "metadata": {},
   "source": [
    "## Import libraries"
   ]
  },
  {
   "cell_type": "code",
   "execution_count": 1,
   "metadata": {},
   "outputs": [],
   "source": [
    "import numpy as np\n",
    "import pandas as pd\n",
    "from pandas.plotting import scatter_matrix\n",
    "import matplotlib.pyplot as plt\n",
    "import seaborn as sns\n",
    "%matplotlib inline\n",
    "\n",
    "import os\n",
    "from zipfile import ZipFile\n",
    "import requests\n",
    "\n",
    "from datetime import datetime"
   ]
  },
  {
   "cell_type": "markdown",
   "metadata": {},
   "source": [
    "## Get dataset"
   ]
  },
  {
   "cell_type": "code",
   "execution_count": 2,
   "metadata": {},
   "outputs": [],
   "source": [
    "DATA_PATH = os.path.join(os.getcwd(), 'data')\n",
    "FILE_PATH_SEATTLE = os.path.join(DATA_PATH, 'seattle.zip')\n",
    "FILE_PATH_BOSTON = os.path.join(DATA_PATH, 'boston.zip')"
   ]
  },
  {
   "cell_type": "code",
   "execution_count": 3,
   "metadata": {},
   "outputs": [],
   "source": [
    "def extract_df_from_airbnb_zipfile(PATH_ZIPFILE) :\n",
    "    '''\n",
    "        INPUT : file path to a zipfile to open\n",
    "        OUTPUT : a dictionary that contains dataframes of files \n",
    "        extracted from the zip file\n",
    "    '''\n",
    "\n",
    "    zf = ZipFile(PATH_ZIPFILE) \n",
    "    dfs = {\n",
    "        text_file.filename : pd.read_csv(zf.open(text_file.filename ))\n",
    "        for text_file in zf.infolist() \n",
    "        if text_file.filename.endswith('.csv')\n",
    "    }\n",
    "    \n",
    "    print('Printing a dictionary with filenames as keys')\n",
    "    for filename in dfs.keys() :\n",
    "        print(f'Filename (keys): {filename}')\n",
    "    \n",
    "    return dfs"
   ]
  },
  {
   "cell_type": "code",
   "execution_count": 4,
   "metadata": {},
   "outputs": [
    {
     "name": "stdout",
     "output_type": "stream",
     "text": [
      "Printing a dictionary with filenames as keys\n",
      "Filename (keys): calendar.csv\n",
      "Filename (keys): listings.csv\n",
      "Filename (keys): reviews.csv\n"
     ]
    }
   ],
   "source": [
    "dfs_sea = extract_df_from_airbnb_zipfile(FILE_PATH_SEATTLE)"
   ]
  },
  {
   "cell_type": "code",
   "execution_count": 5,
   "metadata": {},
   "outputs": [],
   "source": [
    "listings_sea = dfs_sea['listings.csv']\n",
    "reviews_sea = dfs_sea['reviews.csv']\n",
    "calendar_sea = dfs_sea['calendar.csv']"
   ]
  },
  {
   "cell_type": "markdown",
   "metadata": {},
   "source": [
    "---\n",
    "<a id=\"function\"></a>\n",
    "---\n",
    "## Functions\n",
    "Collect all functions to use in this notebook."
   ]
  },
  {
   "cell_type": "code",
   "execution_count": 6,
   "metadata": {},
   "outputs": [],
   "source": [
    "# Helper function\n",
    "def convert_str_to_datetime(df, date_feature) :\n",
    "\n",
    "    date_conversion = lambda x : datetime.strptime(x, \"%Y-%m-%d\")\n",
    "    \n",
    "    return df[date_feature].apply(date_conversion)\n",
    "    \n",
    "\n",
    "def break_date(df, date_feature) :\n",
    "\n",
    "    df_new = df.copy()\n",
    "    \n",
    "    df_new[date_feature] = convert_str_to_datetime(df_new, date_feature)\n",
    "\n",
    "    df_new['year'] = df_new[date_feature].apply(lambda x : x.year)\n",
    "    df_new['month'] = df_new[date_feature].apply(lambda x : x.month)\n",
    "    df_new['day'] = df_new[date_feature].apply(lambda x : x.day)\n",
    "    \n",
    "    return df_new\n",
    "    "
   ]
  },
  {
   "cell_type": "code",
   "execution_count": 7,
   "metadata": {},
   "outputs": [],
   "source": [
    "def convert_price_float(series) :\n",
    "\n",
    "    # Remove $ & , sign from price\n",
    "    rep = {'$':'', ',': ''}\n",
    "\n",
    "    for old, new in rep.items() :\n",
    "        series = series.str.replace(old, new)\n",
    "        \n",
    "    # convert date type to float\n",
    "    series = series.astype(float)\n",
    "    \n",
    "    return series"
   ]
  },
  {
   "cell_type": "code",
   "execution_count": 8,
   "metadata": {},
   "outputs": [],
   "source": [
    "def convert_binary_num(series) :\n",
    "    \n",
    "    series = series.map({\n",
    "        't': 1, 'f':0\n",
    "    })\n",
    "    \n",
    "    return series"
   ]
  },
  {
   "cell_type": "code",
   "execution_count": 9,
   "metadata": {},
   "outputs": [],
   "source": [
    "def plot_line_chart(x, height, layout_obj=False, rotation=False) :\n",
    "\n",
    "    if ( layout_obj ) and ( not len(layout_obj) == 3 ): \n",
    "        print('Length of layout_obj must be 3')\n",
    "        raise \n",
    "    \n",
    "    title, xlabel, ylabel = layout_obj.values()\n",
    "    \n",
    "    plt.figure(figsize=(10,4))\n",
    "    plt.plot(x, height, marker='o')\n",
    "\n",
    "    plt.title(title)\n",
    "    plt.xlabel(xlabel);\n",
    "    plt.ylabel(ylabel)\n",
    "    plt.axhline(height.mean(), c='orange', ls='--')\n",
    "    \n",
    "    if rotation : \n",
    "        plt.xticks(rotation=45);\n",
    "\n",
    "    plt.show()"
   ]
  },
  {
   "cell_type": "code",
   "execution_count": 10,
   "metadata": {},
   "outputs": [],
   "source": [
    "def plot_bar_chart(x, height, layout_obj=False, rotation=False) :\n",
    "\n",
    "    if ( layout_obj ) and ( not len(layout_obj) == 3 ): \n",
    "        print('Length of layout_obj must be 3')\n",
    "        raise \n",
    "    \n",
    "    title, xlabel, ylabel = layout_obj.values()\n",
    "    \n",
    "    plt.figure(figsize=(10,4))\n",
    "    plt.bar(x, height)\n",
    "\n",
    "    plt.title(title)\n",
    "    plt.xlabel(xlabel);\n",
    "    plt.ylabel(ylabel)\n",
    "    \n",
    "    if rotation : \n",
    "        plt.xticks(rotation=45);\n",
    "\n",
    "    plt.show()"
   ]
  },
  {
   "cell_type": "code",
   "execution_count": 11,
   "metadata": {},
   "outputs": [],
   "source": [
    "def map_calendar_month(series) :\n",
    "    \n",
    "    try : \n",
    "        series = series.map({\n",
    "            1:'Jan', 2:'Feb', 3:'Mar', 4:'Apr', 5:'May', 6:'Jun',\n",
    "            7:'Jul', 8:'Aug', 9:'Sep', 10:'Oct', 11:'Nov', 12:'Dec'\n",
    "        })\n",
    "        \n",
    "        return series\n",
    "        \n",
    "    except :\n",
    "        print('Failed mapping')\n",
    "        return"
   ]
  },
  {
   "cell_type": "markdown",
   "metadata": {},
   "source": [
    "[Go to the bottom](#bottom)"
   ]
  },
  {
   "cell_type": "markdown",
   "metadata": {},
   "source": [
    "---\n",
    "## Data exploration\n",
    "The respective Airbnb datasets are downloaded from : \n",
    "\n",
    "- Seattle : https://www.kaggle.com/airbnb/seattle\n",
    "- Boston  : https://www.kaggle.com/airbnb/boston\n",
    "\n",
    "\n",
    "\n",
    "### Content\n",
    "- Listings, including full descriptions and average review score\n",
    "- Reviews, including unique id for each reviewer and detailed comments\n",
    "- Calendar, including listing id and the price and availability for that day\n",
    "\n",
    "### Inspiration\n",
    "- Can you describe the vibe of each Seattle neighborhood using listing descriptions?\n",
    "- What are the busiest times of the year to visit Seattle? By how much do prices spike?\n",
    "- Is there a general upward trend of both new Airbnb listings and total Airbnb visitors to Seattle?\n",
    "\n",
    "Reference to the real use of the data: http://insideairbnb.com/seattle/"
   ]
  },
  {
   "cell_type": "markdown",
   "metadata": {},
   "source": [
    "## `1.` Occupancy rate & price through the year\n",
    "Working with **`calendar`** dataframe for both Seattle and Boston airbnb dataset. I will work on Seattle data first and subsequently apply a function for wrangling and visualizing Boston data."
   ]
  },
  {
   "cell_type": "markdown",
   "metadata": {},
   "source": [
    "### Data cleaning & exploration"
   ]
  },
  {
   "cell_type": "code",
   "execution_count": 12,
   "metadata": {},
   "outputs": [],
   "source": [
    "# Copy a dataframe for data cleaning\n",
    "calendar = calendar_sea.copy() "
   ]
  },
  {
   "cell_type": "code",
   "execution_count": 13,
   "metadata": {},
   "outputs": [
    {
     "name": "stdout",
     "output_type": "stream",
     "text": [
      "<class 'pandas.core.frame.DataFrame'>\n",
      "RangeIndex: 1393570 entries, 0 to 1393569\n",
      "Data columns (total 4 columns):\n",
      " #   Column      Non-Null Count    Dtype \n",
      "---  ------      --------------    ----- \n",
      " 0   listing_id  1393570 non-null  int64 \n",
      " 1   date        1393570 non-null  object\n",
      " 2   available   1393570 non-null  object\n",
      " 3   price       934542 non-null   object\n",
      "dtypes: int64(1), object(3)\n",
      "memory usage: 42.5+ MB\n"
     ]
    }
   ],
   "source": [
    "calendar.info()"
   ]
  },
  {
   "cell_type": "code",
   "execution_count": 14,
   "metadata": {},
   "outputs": [
    {
     "data": {
      "text/plain": [
       "365"
      ]
     },
     "execution_count": 14,
     "metadata": {},
     "output_type": "execute_result"
    }
   ],
   "source": [
    "# Data for 365 days from 2016-01-04 - 2017-01-02\n",
    "len(calendar.date.value_counts().index) "
   ]
  },
  {
   "cell_type": "code",
   "execution_count": 15,
   "metadata": {},
   "outputs": [],
   "source": [
    "# Convert t, f to binary int : available\n",
    "calendar.available = convert_binary_num(calendar.available)"
   ]
  },
  {
   "cell_type": "code",
   "execution_count": 16,
   "metadata": {
    "scrolled": false
   },
   "outputs": [],
   "source": [
    "# Remove $ & , sign from price\n",
    "calendar.price = convert_price_float(calendar.price)"
   ]
  },
  {
   "cell_type": "code",
   "execution_count": 19,
   "metadata": {
    "scrolled": true
   },
   "outputs": [
    {
     "data": {
      "text/html": [
       "<div>\n",
       "<style scoped>\n",
       "    .dataframe tbody tr th:only-of-type {\n",
       "        vertical-align: middle;\n",
       "    }\n",
       "\n",
       "    .dataframe tbody tr th {\n",
       "        vertical-align: top;\n",
       "    }\n",
       "\n",
       "    .dataframe thead th {\n",
       "        text-align: right;\n",
       "    }\n",
       "</style>\n",
       "<table border=\"1\" class=\"dataframe\">\n",
       "  <thead>\n",
       "    <tr style=\"text-align: right;\">\n",
       "      <th></th>\n",
       "      <th>occ_rate</th>\n",
       "      <th>avg_rate</th>\n",
       "    </tr>\n",
       "  </thead>\n",
       "  <tbody>\n",
       "    <tr>\n",
       "      <th>count</th>\n",
       "      <td>365.000000</td>\n",
       "      <td>365.000000</td>\n",
       "    </tr>\n",
       "    <tr>\n",
       "      <th>mean</th>\n",
       "      <td>0.670610</td>\n",
       "      <td>137.901783</td>\n",
       "    </tr>\n",
       "    <tr>\n",
       "      <th>std</th>\n",
       "      <td>0.047899</td>\n",
       "      <td>9.860142</td>\n",
       "    </tr>\n",
       "    <tr>\n",
       "      <th>min</th>\n",
       "      <td>0.454426</td>\n",
       "      <td>117.685413</td>\n",
       "    </tr>\n",
       "    <tr>\n",
       "      <th>25%</th>\n",
       "      <td>0.647197</td>\n",
       "      <td>132.446443</td>\n",
       "    </tr>\n",
       "    <tr>\n",
       "      <th>50%</th>\n",
       "      <td>0.674961</td>\n",
       "      <td>136.731206</td>\n",
       "    </tr>\n",
       "    <tr>\n",
       "      <th>75%</th>\n",
       "      <td>0.702462</td>\n",
       "      <td>146.930502</td>\n",
       "    </tr>\n",
       "    <tr>\n",
       "      <th>max</th>\n",
       "      <td>0.765322</td>\n",
       "      <td>157.480000</td>\n",
       "    </tr>\n",
       "  </tbody>\n",
       "</table>\n",
       "</div>"
      ],
      "text/plain": [
       "         occ_rate    avg_rate\n",
       "count  365.000000  365.000000\n",
       "mean     0.670610  137.901783\n",
       "std      0.047899    9.860142\n",
       "min      0.454426  117.685413\n",
       "25%      0.647197  132.446443\n",
       "50%      0.674961  136.731206\n",
       "75%      0.702462  146.930502\n",
       "max      0.765322  157.480000"
      ]
     },
     "execution_count": 19,
     "metadata": {},
     "output_type": "execute_result"
    }
   ],
   "source": [
    "# Occpancy rate and price per day \n",
    "occ_price_tbl = calendar.groupby('date').mean().drop(columns='listing_id')\n",
    "occ_price_tbl.columns = ['occ_rate', 'avg_rate']\n",
    "occ_price_tbl.describe()"
   ]
  },
  {
   "cell_type": "code",
   "execution_count": 21,
   "metadata": {},
   "outputs": [
    {
     "data": {
      "image/png": "[encoded data removed]",
      "text/plain": [
       "<Figure size 864x288 with 2 Axes>"
      ]
     },
     "metadata": {
      "needs_background": "light"
     },
     "output_type": "display_data"
    }
   ],
   "source": [
    "ticks = np.arange(0, len(occ_price_tbl.index)+1, 30)\n",
    "labels = [occ_price_tbl.index[idx] for idx in ticks]\n",
    "\n",
    "date = occ_price_tbl.index\n",
    "rate_dict = [{'data': occ_price_tbl.occ_rate, 'desc': 'Occupancy Rate'},\n",
    "             {'data': occ_price_tbl.avg_rate, 'desc': 'Average Room Rate'}]\n",
    "\n",
    "fig, axes = plt.subplots(nrows=2, ncols=1, sharex=True, figsize=(12,4))\n",
    "\n",
    "for i in [0, 1] : \n",
    "    axes[i].plot(date, rate_dict[i]['data'])\n",
    "    axes[i].set_title('Seattle Airbnb ' + rate_dict[i]['desc'] + ' in 2016')\n",
    "    axes[i].set_xlabel('Date')\n",
    "    axes[i].set_ylabel(rate_dict[i]['desc'])\n",
    "    axes[i].set_xticks(labels) \n",
    "    axes[i].axhline(rate_dict[i]['data'].mean(), ls='--', color='orange', lw=1.5)\n",
    "    \n",
    "    fig.tight_layout()\n",
    "\n",
    "plt.show()"
   ]
  },
  {
   "cell_type": "markdown",
   "metadata": {},
   "source": [
    "The plots show the overall trend but not clearly in details. Let's break down the date into year, month and day"
   ]
  },
  {
   "cell_type": "markdown",
   "metadata": {},
   "source": [
    "### Converting date from string to datetime object"
   ]
  },
  {
   "cell_type": "code",
   "execution_count": 22,
   "metadata": {
    "scrolled": false
   },
   "outputs": [],
   "source": [
    "# Convert into datetime object : date\n",
    "date_conversion = lambda x : datetime.strptime(x, \"%Y-%m-%d\")\n",
    "calendar.date = calendar.date.apply(date_conversion)"
   ]
  },
  {
   "cell_type": "code",
   "execution_count": 23,
   "metadata": {},
   "outputs": [],
   "source": [
    "calendar.insert(2, 'year', calendar.date.apply(lambda x : x.year))\n",
    "calendar.insert(3, 'month', calendar.date.apply(lambda x : x.month))\n",
    "calendar.insert(4, 'day', calendar.date.apply(lambda x : x.day))"
   ]
  },
  {
   "cell_type": "markdown",
   "metadata": {},
   "source": [
    "The above codes take too much time, which will be improved for any later use."
   ]
  },
  {
   "cell_type": "markdown",
   "metadata": {},
   "source": [
    "### Occupancy rate and average room rate in 2016\n",
    "Monthly, Airbnb Seattle"
   ]
  },
  {
   "cell_type": "code",
   "execution_count": 24,
   "metadata": {
    "scrolled": true
   },
   "outputs": [
    {
     "data": {
      "text/html": [
       "<div>\n",
       "<style scoped>\n",
       "    .dataframe tbody tr th:only-of-type {\n",
       "        vertical-align: middle;\n",
       "    }\n",
       "\n",
       "    .dataframe tbody tr th {\n",
       "        vertical-align: top;\n",
       "    }\n",
       "\n",
       "    .dataframe thead th {\n",
       "        text-align: right;\n",
       "    }\n",
       "</style>\n",
       "<table border=\"1\" class=\"dataframe\">\n",
       "  <thead>\n",
       "    <tr style=\"text-align: right;\">\n",
       "      <th></th>\n",
       "      <th>available</th>\n",
       "      <th>price</th>\n",
       "    </tr>\n",
       "    <tr>\n",
       "      <th>month</th>\n",
       "      <th></th>\n",
       "      <th></th>\n",
       "    </tr>\n",
       "  </thead>\n",
       "  <tbody>\n",
       "    <tr>\n",
       "      <th>1</th>\n",
       "      <td>0.566937</td>\n",
       "      <td>122.912176</td>\n",
       "    </tr>\n",
       "    <tr>\n",
       "      <th>2</th>\n",
       "      <td>0.662208</td>\n",
       "      <td>124.293927</td>\n",
       "    </tr>\n",
       "    <tr>\n",
       "      <th>3</th>\n",
       "      <td>0.709187</td>\n",
       "      <td>128.644488</td>\n",
       "    </tr>\n",
       "    <tr>\n",
       "      <th>4</th>\n",
       "      <td>0.663847</td>\n",
       "      <td>135.097005</td>\n",
       "    </tr>\n",
       "    <tr>\n",
       "      <th>5</th>\n",
       "      <td>0.675670</td>\n",
       "      <td>139.538183</td>\n",
       "    </tr>\n",
       "  </tbody>\n",
       "</table>\n",
       "</div>"
      ],
      "text/plain": [
       "       available       price\n",
       "month                       \n",
       "1       0.566937  122.912176\n",
       "2       0.662208  124.293927\n",
       "3       0.709187  128.644488\n",
       "4       0.663847  135.097005\n",
       "5       0.675670  139.538183"
      ]
     },
     "execution_count": 24,
     "metadata": {},
     "output_type": "execute_result"
    }
   ],
   "source": [
    "analysis_seattle = calendar.groupby('month').mean()[['available', 'price']]\n",
    "analysis_seattle.head()"
   ]
  },
  {
   "cell_type": "code",
   "execution_count": 25,
   "metadata": {},
   "outputs": [
    {
     "data": {
      "text/html": [
       "<div>\n",
       "<style scoped>\n",
       "    .dataframe tbody tr th:only-of-type {\n",
       "        vertical-align: middle;\n",
       "    }\n",
       "\n",
       "    .dataframe tbody tr th {\n",
       "        vertical-align: top;\n",
       "    }\n",
       "\n",
       "    .dataframe thead th {\n",
       "        text-align: right;\n",
       "    }\n",
       "</style>\n",
       "<table border=\"1\" class=\"dataframe\">\n",
       "  <thead>\n",
       "    <tr style=\"text-align: right;\">\n",
       "      <th></th>\n",
       "      <th>occ_rate</th>\n",
       "      <th>room_rate</th>\n",
       "    </tr>\n",
       "    <tr>\n",
       "      <th>month</th>\n",
       "      <th></th>\n",
       "      <th></th>\n",
       "    </tr>\n",
       "  </thead>\n",
       "  <tbody>\n",
       "    <tr>\n",
       "      <th>Jan</th>\n",
       "      <td>0.566937</td>\n",
       "      <td>122.912176</td>\n",
       "    </tr>\n",
       "    <tr>\n",
       "      <th>Feb</th>\n",
       "      <td>0.662208</td>\n",
       "      <td>124.293927</td>\n",
       "    </tr>\n",
       "    <tr>\n",
       "      <th>Mar</th>\n",
       "      <td>0.709187</td>\n",
       "      <td>128.644488</td>\n",
       "    </tr>\n",
       "    <tr>\n",
       "      <th>Apr</th>\n",
       "      <td>0.663847</td>\n",
       "      <td>135.097005</td>\n",
       "    </tr>\n",
       "    <tr>\n",
       "      <th>May</th>\n",
       "      <td>0.675670</td>\n",
       "      <td>139.538183</td>\n",
       "    </tr>\n",
       "  </tbody>\n",
       "</table>\n",
       "</div>"
      ],
      "text/plain": [
       "       occ_rate   room_rate\n",
       "month                      \n",
       "Jan    0.566937  122.912176\n",
       "Feb    0.662208  124.293927\n",
       "Mar    0.709187  128.644488\n",
       "Apr    0.663847  135.097005\n",
       "May    0.675670  139.538183"
      ]
     },
     "execution_count": 25,
     "metadata": {},
     "output_type": "execute_result"
    }
   ],
   "source": [
    "# Mapping integers to month name\n",
    "analysis_seattle.index = map_calendar_month(analysis_seattle.index)\n",
    "\n",
    "# Change column names\n",
    "analysis_seattle.columns = ['occ_rate', 'room_rate']\n",
    "\n",
    "# Confirm the change\n",
    "analysis_seattle.head()"
   ]
  },
  {
   "cell_type": "code",
   "execution_count": 26,
   "metadata": {},
   "outputs": [
    {
     "data": {
      "image/png": "[encoded data removed]",
      "text/plain": [
       "<Figure size 648x288 with 2 Axes>"
      ]
     },
     "metadata": {
      "needs_background": "light"
     },
     "output_type": "display_data"
    }
   ],
   "source": [
    "date = analysis_seattle.index\n",
    "rate_dict = [{'data': analysis_seattle.occ_rate, 'desc': 'occupancy rate (%)'},\n",
    "             {'data': analysis_seattle.room_rate, 'desc': 'average room rate ($)'}]\n",
    "\n",
    "fig, axes = plt.subplots(nrows=2, ncols=1, sharex=True, figsize=(9,4))\n",
    "\n",
    "for i in [0, 1] : \n",
    "    axes[i].plot(date, rate_dict[i]['data'], marker='o')\n",
    "    axes[i].set_title('Seattle Airbnb ' + rate_dict[i]['desc'] + ' in 2016')\n",
    "    axes[i].set_ylabel(rate_dict[i]['desc'])\n",
    "    axes[i].axhline(rate_dict[i]['data'].mean(), ls='--', color='orange', lw=1.5)\n",
    "\n",
    "\n",
    "axes[1].set_xlabel('month')    \n",
    "fig.tight_layout()\n",
    "\n",
    "axes[0].set_yticks(np.arange(0.4, 0.8 + 0.2, 0.1))\n",
    "axes[0].set_yticklabels([str(occ) for occ in range(40, 80 + 20, 10)])\n",
    "\n",
    "axes[1].set_yticks(np.arange(100, 160 + 20, 20))\n",
    "axes[1].set_yticklabels([str(price) for price in range(100, 160 + 20, 20)])\n",
    "\n",
    "plt.show()"
   ]
  },
  {
   "cell_type": "markdown",
   "metadata": {},
   "source": [
    "### How about RevPar ? \n",
    "\n",
    "RevPAR, or revenue per available room, is a performance metric in the hotel industry that is calculated by dividing a hotel's total guestroom revenue by the room count and the number of days in the period being measured. https://en.wikipedia.org/wiki/RevPAR\n",
    "\n",
    "It can alternatively be calculated as occupancy rate $(# room occupied / # available) x average room rate$."
   ]
  },
  {
   "cell_type": "code",
   "execution_count": 27,
   "metadata": {},
   "outputs": [],
   "source": [
    "analysis_seattle['rev_par'] = ( analysis_seattle.occ_rate \n",
    "                                * analysis_seattle.room_rate )"
   ]
  },
  {
   "cell_type": "code",
   "execution_count": 28,
   "metadata": {
    "scrolled": false
   },
   "outputs": [
    {
     "data": {
      "image/png": "[encoded data removed]",
      "text/plain": [
       "<Figure size 720x288 with 1 Axes>"
      ]
     },
     "metadata": {
      "needs_background": "light"
     },
     "output_type": "display_data"
    }
   ],
   "source": [
    "date = analysis_seattle.index\n",
    "revpar = analysis_seattle['rev_par']\n",
    "layout_obj = {\n",
    "    'title': 'RevPar Performance of AirBnb in Seattle in 2016',\n",
    "    'xlabel': 'month',\n",
    "    'ylabel': 'revenue per available room ($)'\n",
    "}\n",
    "\n",
    "plot_bar_chart(date, revpar, layout_obj, rotation=False)\n",
    "\n",
    "plt.show()"
   ]
  },
  {
   "cell_type": "markdown",
   "metadata": {},
   "source": [
    "---\n",
    "### Create a function for wrangling"
   ]
  },
  {
   "cell_type": "code",
   "execution_count": 29,
   "metadata": {},
   "outputs": [],
   "source": [
    "def wrangle_airbnb_calendar_data(df) :\n",
    "    \n",
    "    # check if df has airbnb 'calendar' data\n",
    "    if (df.shape[1] != 4 or df.columns.values[0] != 'listing_id') :\n",
    "        print('Check if input dataframe is correct or data format has been changed')\n",
    "        return \n",
    "    \n",
    "    calendar = df.copy() \n",
    "    calendar.available = convert_binary_num(calendar.available)    \n",
    "    calendar.price = convert_price_float(calendar.price)\n",
    "    \n",
    "    calendar_new = break_date(calendar, 'date')\n",
    "\n",
    "    monthly_analysis = calendar_new.groupby('month').mean()[['available', 'price']]\n",
    "    monthly_analysis.index = map_calendar_month(monthly_analysis.index)\n",
    "    monthly_analysis.columns = ['occ_rate', 'room_rate']\n",
    "    \n",
    "    monthly_analysis['rev_par'] = ( monthly_analysis.occ_rate \n",
    "                                   * monthly_analysis.room_rate )\n",
    "    \n",
    "    return monthly_analysis\n",
    "    "
   ]
  },
  {
   "cell_type": "markdown",
   "metadata": {},
   "source": [
    "### Get Boston data & wrangle it"
   ]
  },
  {
   "cell_type": "code",
   "execution_count": 30,
   "metadata": {
    "scrolled": true
   },
   "outputs": [
    {
     "name": "stdout",
     "output_type": "stream",
     "text": [
      "Printing a dictionary with filenames as keys\n",
      "Filename (keys): calendar.csv\n",
      "Filename (keys): listings.csv\n",
      "Filename (keys): reviews.csv\n"
     ]
    }
   ],
   "source": [
    "# Extract airbnb Boston 'calendar' data\n",
    "df_bos = extract_df_from_airbnb_zipfile(FILE_PATH_BOSTON)"
   ]
  },
  {
   "cell_type": "code",
   "execution_count": 31,
   "metadata": {},
   "outputs": [],
   "source": [
    "calendar_bos = df_bos['calendar.csv']\n",
    "listings_bos = df_bos['listings.csv']\n",
    "reviews_bos = df_bos['reviews.csv']"
   ]
  },
  {
   "cell_type": "code",
   "execution_count": 32,
   "metadata": {},
   "outputs": [],
   "source": [
    "analysis_boston = wrangle_airbnb_calendar_data(calendar_bos)"
   ]
  },
  {
   "cell_type": "code",
   "execution_count": 33,
   "metadata": {},
   "outputs": [
    {
     "data": {
      "image/png": "[encoded data removed]",
      "text/plain": [
       "<Figure size 648x288 with 2 Axes>"
      ]
     },
     "metadata": {
      "needs_background": "light"
     },
     "output_type": "display_data"
    }
   ],
   "source": [
    "date = analysis_boston.index\n",
    "rate_dict = [{'data': analysis_boston.occ_rate, 'desc': 'occupancy rate (%)'},\n",
    "             {'data': analysis_boston.room_rate, 'desc': 'average room rate ($)'}]\n",
    "\n",
    "fig, axes = plt.subplots(nrows=2, ncols=1, sharex=True, figsize=(9,4))\n",
    "\n",
    "for i in [0, 1] : \n",
    "    axes[i].plot(date, rate_dict[i]['data'], marker='o')\n",
    "    axes[i].set_title('Seattle Airbnb ' + rate_dict[i]['desc'] + ' in 2016')\n",
    "    axes[i].set_ylabel(rate_dict[i]['desc'])\n",
    "    axes[i].axhline(rate_dict[i]['data'].mean(), ls='--', color='orange', lw=1.5)\n",
    "\n",
    "\n",
    "axes[1].set_xlabel('month')    \n",
    "fig.tight_layout()\n",
    "\n",
    "axes[0].set_yticks(np.arange(0.2, 0.6 + 0.2, 0.1))\n",
    "axes[0].set_yticklabels([str(occ) for occ in range(20, 60 + 20, 10)])\n",
    "\n",
    "axes[1].set_yticks(np.arange(160, 240 + 20, 20))\n",
    "axes[1].set_yticklabels([str(price) for price in range(160, 240 + 20, 20)])\n",
    "\n",
    "plt.show()"
   ]
  },
  {
   "cell_type": "code",
   "execution_count": 34,
   "metadata": {
    "scrolled": true
   },
   "outputs": [
    {
     "data": {
      "image/png": "[encoded data removed]",
      "text/plain": [
       "<Figure size 720x288 with 1 Axes>"
      ]
     },
     "metadata": {
      "needs_background": "light"
     },
     "output_type": "display_data"
    }
   ],
   "source": [
    "date = analysis_boston.index\n",
    "revpar = analysis_boston['rev_par']\n",
    "layout_obj = {\n",
    "    'title': 'RevPar Performance of AirBnb in Boston in 2016',\n",
    "    'xlabel': 'month',\n",
    "    'ylabel': 'revenue per available room ($)'\n",
    "}\n",
    "\n",
    "plot_bar_chart(date, revpar, layout_obj, rotation=False)\n",
    "\n",
    "plt.show()"
   ]
  },
  {
   "cell_type": "markdown",
   "metadata": {},
   "source": [
    "### Comparison of revpar between Seattle and Boston"
   ]
  },
  {
   "cell_type": "code",
   "execution_count": 47,
   "metadata": {
    "scrolled": false
   },
   "outputs": [],
   "source": [
    "revpar_analysis_airbnb = pd.DataFrame({\n",
    "    'revpar_seattle' : analysis_seattle.rev_par,\n",
    "    'revpar_boston'  : analysis_boston.rev_par\n",
    "}, index=analysis_seattle.index)"
   ]
  },
  {
   "cell_type": "code",
   "execution_count": 55,
   "metadata": {},
   "outputs": [
    {
     "data": {
      "image/png": "[encoded data removed]",
      "text/plain": [
       "<Figure size 720x288 with 1 Axes>"
      ]
     },
     "metadata": {
      "needs_background": "light"
     },
     "output_type": "display_data"
    }
   ],
   "source": [
    "revpar_analysis_airbnb.plot.bar(figsize=(10,4))\n",
    "\n",
    "plt.title('RevPar Performance of AirBnb in 2016')\n",
    "plt.xlabel('month')\n",
    "plt.ylabel('revenue per available room ($)')\n",
    "plt.legend(loc='lower center', ncol=6)\n",
    "\n",
    "plt.show()"
   ]
  },
  {
   "cell_type": "markdown",
   "metadata": {},
   "source": [
    "---\n",
    "## `2`. Trend in listing\n",
    "Now to discover the supply side \n",
    "\n",
    "- \\# of new hostings : `host_since`\n",
    "- \\# of hostings(at point in time) : `calculated_host_listings_count`\n",
    "- growth of super_host : `host_is_superhost`\n",
    "- hosting type: [`property_type`, `room_type`, `price`, ...]"
   ]
  },
  {
   "cell_type": "code",
   "execution_count": 98,
   "metadata": {},
   "outputs": [
    {
     "data": {
      "text/plain": [
       "(3818, 92)"
      ]
     },
     "execution_count": 98,
     "metadata": {},
     "output_type": "execute_result"
    }
   ],
   "source": [
    "# Copy a dataframe for data cleaning\n",
    "listings = listings_sea.copy() \n",
    "listings.shape"
   ]
  },
  {
   "cell_type": "code",
   "execution_count": 99,
   "metadata": {
    "scrolled": false
   },
   "outputs": [
    {
     "name": "stdout",
     "output_type": "stream",
     "text": [
      "(3818, 22)\n"
     ]
    },
    {
     "data": {
      "text/html": [
       "<div>\n",
       "<style scoped>\n",
       "    .dataframe tbody tr th:only-of-type {\n",
       "        vertical-align: middle;\n",
       "    }\n",
       "\n",
       "    .dataframe tbody tr th {\n",
       "        vertical-align: top;\n",
       "    }\n",
       "\n",
       "    .dataframe thead th {\n",
       "        text-align: right;\n",
       "    }\n",
       "</style>\n",
       "<table border=\"1\" class=\"dataframe\">\n",
       "  <thead>\n",
       "    <tr style=\"text-align: right;\">\n",
       "      <th></th>\n",
       "      <th>host_id</th>\n",
       "      <th>host_url</th>\n",
       "      <th>host_name</th>\n",
       "      <th>host_since</th>\n",
       "      <th>host_location</th>\n",
       "      <th>host_about</th>\n",
       "      <th>host_response_time</th>\n",
       "      <th>host_response_rate</th>\n",
       "      <th>host_acceptance_rate</th>\n",
       "      <th>host_is_superhost</th>\n",
       "      <th>...</th>\n",
       "      <th>host_neighbourhood</th>\n",
       "      <th>host_listings_count</th>\n",
       "      <th>host_total_listings_count</th>\n",
       "      <th>host_verifications</th>\n",
       "      <th>host_has_profile_pic</th>\n",
       "      <th>host_identity_verified</th>\n",
       "      <th>calculated_host_listings_count</th>\n",
       "      <th>property_type</th>\n",
       "      <th>room_type</th>\n",
       "      <th>price</th>\n",
       "    </tr>\n",
       "  </thead>\n",
       "  <tbody>\n",
       "    <tr>\n",
       "      <th>0</th>\n",
       "      <td>956883</td>\n",
       "      <td>https://www.airbnb.com/users/show/956883</td>\n",
       "      <td>Maija</td>\n",
       "      <td>2011-08-11</td>\n",
       "      <td>Seattle, Washington, United States</td>\n",
       "      <td>I am an artist, interior designer, and run a s...</td>\n",
       "      <td>within a few hours</td>\n",
       "      <td>96%</td>\n",
       "      <td>100%</td>\n",
       "      <td>f</td>\n",
       "      <td>...</td>\n",
       "      <td>Queen Anne</td>\n",
       "      <td>3.0</td>\n",
       "      <td>3.0</td>\n",
       "      <td>['email', 'phone', 'reviews', 'kba']</td>\n",
       "      <td>t</td>\n",
       "      <td>t</td>\n",
       "      <td>2</td>\n",
       "      <td>Apartment</td>\n",
       "      <td>Entire home/apt</td>\n",
       "      <td>$85.00</td>\n",
       "    </tr>\n",
       "    <tr>\n",
       "      <th>1</th>\n",
       "      <td>5177328</td>\n",
       "      <td>https://www.airbnb.com/users/show/5177328</td>\n",
       "      <td>Andrea</td>\n",
       "      <td>2013-02-21</td>\n",
       "      <td>Seattle, Washington, United States</td>\n",
       "      <td>Living east coast/left coast/overseas.  Time i...</td>\n",
       "      <td>within an hour</td>\n",
       "      <td>98%</td>\n",
       "      <td>100%</td>\n",
       "      <td>t</td>\n",
       "      <td>...</td>\n",
       "      <td>Queen Anne</td>\n",
       "      <td>6.0</td>\n",
       "      <td>6.0</td>\n",
       "      <td>['email', 'phone', 'facebook', 'linkedin', 're...</td>\n",
       "      <td>t</td>\n",
       "      <td>t</td>\n",
       "      <td>6</td>\n",
       "      <td>Apartment</td>\n",
       "      <td>Entire home/apt</td>\n",
       "      <td>$150.00</td>\n",
       "    </tr>\n",
       "    <tr>\n",
       "      <th>2</th>\n",
       "      <td>16708587</td>\n",
       "      <td>https://www.airbnb.com/users/show/16708587</td>\n",
       "      <td>Jill</td>\n",
       "      <td>2014-06-12</td>\n",
       "      <td>Seattle, Washington, United States</td>\n",
       "      <td>i love living in Seattle.  i grew up in the mi...</td>\n",
       "      <td>within a few hours</td>\n",
       "      <td>67%</td>\n",
       "      <td>100%</td>\n",
       "      <td>f</td>\n",
       "      <td>...</td>\n",
       "      <td>Queen Anne</td>\n",
       "      <td>2.0</td>\n",
       "      <td>2.0</td>\n",
       "      <td>['email', 'phone', 'google', 'reviews', 'jumio']</td>\n",
       "      <td>t</td>\n",
       "      <td>t</td>\n",
       "      <td>2</td>\n",
       "      <td>House</td>\n",
       "      <td>Entire home/apt</td>\n",
       "      <td>$975.00</td>\n",
       "    </tr>\n",
       "    <tr>\n",
       "      <th>3</th>\n",
       "      <td>9851441</td>\n",
       "      <td>https://www.airbnb.com/users/show/9851441</td>\n",
       "      <td>Emily</td>\n",
       "      <td>2013-11-06</td>\n",
       "      <td>Seattle, Washington, United States</td>\n",
       "      <td>NaN</td>\n",
       "      <td>NaN</td>\n",
       "      <td>NaN</td>\n",
       "      <td>NaN</td>\n",
       "      <td>f</td>\n",
       "      <td>...</td>\n",
       "      <td>Queen Anne</td>\n",
       "      <td>1.0</td>\n",
       "      <td>1.0</td>\n",
       "      <td>['email', 'phone', 'facebook', 'reviews', 'jum...</td>\n",
       "      <td>t</td>\n",
       "      <td>t</td>\n",
       "      <td>1</td>\n",
       "      <td>Apartment</td>\n",
       "      <td>Entire home/apt</td>\n",
       "      <td>$100.00</td>\n",
       "    </tr>\n",
       "    <tr>\n",
       "      <th>4</th>\n",
       "      <td>1452570</td>\n",
       "      <td>https://www.airbnb.com/users/show/1452570</td>\n",
       "      <td>Emily</td>\n",
       "      <td>2011-11-29</td>\n",
       "      <td>Seattle, Washington, United States</td>\n",
       "      <td>Hi, I live in Seattle, Washington but I'm orig...</td>\n",
       "      <td>within an hour</td>\n",
       "      <td>100%</td>\n",
       "      <td>NaN</td>\n",
       "      <td>f</td>\n",
       "      <td>...</td>\n",
       "      <td>Queen Anne</td>\n",
       "      <td>2.0</td>\n",
       "      <td>2.0</td>\n",
       "      <td>['email', 'phone', 'facebook', 'reviews', 'kba']</td>\n",
       "      <td>t</td>\n",
       "      <td>t</td>\n",
       "      <td>1</td>\n",
       "      <td>House</td>\n",
       "      <td>Entire home/apt</td>\n",
       "      <td>$450.00</td>\n",
       "    </tr>\n",
       "  </tbody>\n",
       "</table>\n",
       "<p>5 rows × 22 columns</p>\n",
       "</div>"
      ],
      "text/plain": [
       "    host_id                                    host_url host_name  host_since  \\\n",
       "0    956883    https://www.airbnb.com/users/show/956883     Maija  2011-08-11   \n",
       "1   5177328   https://www.airbnb.com/users/show/5177328    Andrea  2013-02-21   \n",
       "2  16708587  https://www.airbnb.com/users/show/16708587      Jill  2014-06-12   \n",
       "3   9851441   https://www.airbnb.com/users/show/9851441     Emily  2013-11-06   \n",
       "4   1452570   https://www.airbnb.com/users/show/1452570     Emily  2011-11-29   \n",
       "\n",
       "                        host_location  \\\n",
       "0  Seattle, Washington, United States   \n",
       "1  Seattle, Washington, United States   \n",
       "2  Seattle, Washington, United States   \n",
       "3  Seattle, Washington, United States   \n",
       "4  Seattle, Washington, United States   \n",
       "\n",
       "                                          host_about  host_response_time  \\\n",
       "0  I am an artist, interior designer, and run a s...  within a few hours   \n",
       "1  Living east coast/left coast/overseas.  Time i...      within an hour   \n",
       "2  i love living in Seattle.  i grew up in the mi...  within a few hours   \n",
       "3                                                NaN                 NaN   \n",
       "4  Hi, I live in Seattle, Washington but I'm orig...      within an hour   \n",
       "\n",
       "  host_response_rate host_acceptance_rate host_is_superhost  ...  \\\n",
       "0                96%                 100%                 f  ...   \n",
       "1                98%                 100%                 t  ...   \n",
       "2                67%                 100%                 f  ...   \n",
       "3                NaN                  NaN                 f  ...   \n",
       "4               100%                  NaN                 f  ...   \n",
       "\n",
       "  host_neighbourhood host_listings_count host_total_listings_count  \\\n",
       "0         Queen Anne                 3.0                       3.0   \n",
       "1         Queen Anne                 6.0                       6.0   \n",
       "2         Queen Anne                 2.0                       2.0   \n",
       "3         Queen Anne                 1.0                       1.0   \n",
       "4         Queen Anne                 2.0                       2.0   \n",
       "\n",
       "                                  host_verifications  host_has_profile_pic  \\\n",
       "0               ['email', 'phone', 'reviews', 'kba']                     t   \n",
       "1  ['email', 'phone', 'facebook', 'linkedin', 're...                     t   \n",
       "2   ['email', 'phone', 'google', 'reviews', 'jumio']                     t   \n",
       "3  ['email', 'phone', 'facebook', 'reviews', 'jum...                     t   \n",
       "4   ['email', 'phone', 'facebook', 'reviews', 'kba']                     t   \n",
       "\n",
       "  host_identity_verified calculated_host_listings_count property_type  \\\n",
       "0                      t                              2     Apartment   \n",
       "1                      t                              6     Apartment   \n",
       "2                      t                              2         House   \n",
       "3                      t                              1     Apartment   \n",
       "4                      t                              1         House   \n",
       "\n",
       "         room_type    price  \n",
       "0  Entire home/apt   $85.00  \n",
       "1  Entire home/apt  $150.00  \n",
       "2  Entire home/apt  $975.00  \n",
       "3  Entire home/apt  $100.00  \n",
       "4  Entire home/apt  $450.00  \n",
       "\n",
       "[5 rows x 22 columns]"
      ]
     },
     "execution_count": 99,
     "metadata": {},
     "output_type": "execute_result"
    }
   ],
   "source": [
    "cols_host = listings.loc[:, listings.columns.str.contains('host')]\n",
    "extra_info = listings[['property_type', 'room_type', 'price']]\n",
    "\n",
    "host_original = cols_host.join(extra_info)\n",
    "print(host_original.shape)\n",
    "host_original.head()"
   ]
  },
  {
   "cell_type": "markdown",
   "metadata": {},
   "source": [
    "### Data cleaning"
   ]
  },
  {
   "cell_type": "markdown",
   "metadata": {},
   "source": [
    "#### Drop unnessary / repetitive features\n",
    "return host_clean_v0 dataframe"
   ]
  },
  {
   "cell_type": "code",
   "execution_count": 100,
   "metadata": {},
   "outputs": [],
   "source": [
    "# drop unnecessary cols\n",
    "# calculated_host_listings_count are more accurate info\n",
    "drop_cols = ['host_url', 'host_thumbnail_url', 'host_picture_url', 'host_verifications',\n",
    "             'host_has_profile_pic', 'host_listings_count', 'host_total_listings_count']\n",
    "host_clean_v0 = host_original.drop(columns = drop_cols).copy()"
   ]
  },
  {
   "cell_type": "code",
   "execution_count": 101,
   "metadata": {
    "scrolled": false
   },
   "outputs": [],
   "source": [
    "#pd.options.display.max_row = None\n",
    "#host[host.duplicated(subset=['host_id'], keep=False)].sort_values(by='host_id')"
   ]
  },
  {
   "cell_type": "markdown",
   "metadata": {},
   "source": [
    "#### Drop duplicates"
   ]
  },
  {
   "cell_type": "markdown",
   "metadata": {},
   "source": [
    "It looks that host_id is duplicated when a host has more than 1 hosting. Drop duplicates by host_id (not host_name!). 72% remain after removing duplicated rows, but it is rational to drop, and keep the last row (latest).\n",
    "\n",
    "return host_clean_v1 dataframe"
   ]
  },
  {
   "cell_type": "code",
   "execution_count": 102,
   "metadata": {
    "scrolled": true
   },
   "outputs": [
    {
     "data": {
      "text/plain": [
       "0.7205343111576742"
      ]
     },
     "execution_count": 102,
     "metadata": {},
     "output_type": "execute_result"
    }
   ],
   "source": [
    "( host_clean_v0.drop_duplicates(subset=['host_id'], keep='last').shape[0] \n",
    " / host_clean_v0.shape[0] )"
   ]
  },
  {
   "cell_type": "markdown",
   "metadata": {},
   "source": [
    "- There are rows with no information, which is to be removed. \n",
    "- `host_since` feature needs conversion to date time object. "
   ]
  },
  {
   "cell_type": "code",
   "execution_count": 103,
   "metadata": {
    "scrolled": false
   },
   "outputs": [],
   "source": [
    "# Drop duplicates\n",
    "host_clean_v1 = host_clean_v0.drop_duplicates(subset=['host_id'], keep='last')"
   ]
  },
  {
   "cell_type": "markdown",
   "metadata": {},
   "source": [
    "#### Drop missing values\n",
    "\n",
    "return host_clean_v2 dataframe"
   ]
  },
  {
   "cell_type": "code",
   "execution_count": 104,
   "metadata": {},
   "outputs": [
    {
     "data": {
      "text/html": [
       "<div>\n",
       "<style scoped>\n",
       "    .dataframe tbody tr th:only-of-type {\n",
       "        vertical-align: middle;\n",
       "    }\n",
       "\n",
       "    .dataframe tbody tr th {\n",
       "        vertical-align: top;\n",
       "    }\n",
       "\n",
       "    .dataframe thead th {\n",
       "        text-align: right;\n",
       "    }\n",
       "</style>\n",
       "<table border=\"1\" class=\"dataframe\">\n",
       "  <thead>\n",
       "    <tr style=\"text-align: right;\">\n",
       "      <th></th>\n",
       "      <th>host_id</th>\n",
       "      <th>host_name</th>\n",
       "      <th>host_since</th>\n",
       "      <th>host_location</th>\n",
       "      <th>host_about</th>\n",
       "      <th>host_response_time</th>\n",
       "      <th>host_response_rate</th>\n",
       "      <th>host_acceptance_rate</th>\n",
       "      <th>host_is_superhost</th>\n",
       "      <th>host_neighbourhood</th>\n",
       "      <th>host_identity_verified</th>\n",
       "      <th>calculated_host_listings_count</th>\n",
       "      <th>property_type</th>\n",
       "      <th>room_type</th>\n",
       "      <th>price</th>\n",
       "    </tr>\n",
       "  </thead>\n",
       "  <tbody>\n",
       "    <tr>\n",
       "      <th>1297</th>\n",
       "      <td>42515980</td>\n",
       "      <td>NaN</td>\n",
       "      <td>NaN</td>\n",
       "      <td>NaN</td>\n",
       "      <td>NaN</td>\n",
       "      <td>NaN</td>\n",
       "      <td>NaN</td>\n",
       "      <td>NaN</td>\n",
       "      <td>NaN</td>\n",
       "      <td>NaN</td>\n",
       "      <td>NaN</td>\n",
       "      <td>1</td>\n",
       "      <td>Apartment</td>\n",
       "      <td>Entire home/apt</td>\n",
       "      <td>$99.00</td>\n",
       "    </tr>\n",
       "    <tr>\n",
       "      <th>1419</th>\n",
       "      <td>1075031</td>\n",
       "      <td>NaN</td>\n",
       "      <td>NaN</td>\n",
       "      <td>NaN</td>\n",
       "      <td>NaN</td>\n",
       "      <td>NaN</td>\n",
       "      <td>NaN</td>\n",
       "      <td>NaN</td>\n",
       "      <td>NaN</td>\n",
       "      <td>NaN</td>\n",
       "      <td>NaN</td>\n",
       "      <td>1</td>\n",
       "      <td>Apartment</td>\n",
       "      <td>Entire home/apt</td>\n",
       "      <td>$250.00</td>\n",
       "    </tr>\n",
       "  </tbody>\n",
       "</table>\n",
       "</div>"
      ],
      "text/plain": [
       "       host_id host_name host_since host_location host_about  \\\n",
       "1297  42515980       NaN        NaN           NaN        NaN   \n",
       "1419   1075031       NaN        NaN           NaN        NaN   \n",
       "\n",
       "     host_response_time host_response_rate host_acceptance_rate  \\\n",
       "1297                NaN                NaN                  NaN   \n",
       "1419                NaN                NaN                  NaN   \n",
       "\n",
       "     host_is_superhost host_neighbourhood host_identity_verified  \\\n",
       "1297               NaN                NaN                    NaN   \n",
       "1419               NaN                NaN                    NaN   \n",
       "\n",
       "      calculated_host_listings_count property_type        room_type    price  \n",
       "1297                               1     Apartment  Entire home/apt   $99.00  \n",
       "1419                               1     Apartment  Entire home/apt  $250.00  "
      ]
     },
     "execution_count": 104,
     "metadata": {},
     "output_type": "execute_result"
    }
   ],
   "source": [
    "# Drop 2 missing values\n",
    "host_clean_v1[host_clean_v1['host_since'].isnull()]"
   ]
  },
  {
   "cell_type": "code",
   "execution_count": 105,
   "metadata": {
    "scrolled": false
   },
   "outputs": [],
   "source": [
    "host_clean_v2 = host_clean_v1[host_clean_v1['host_since'].notnull()]"
   ]
  },
  {
   "cell_type": "markdown",
   "metadata": {},
   "source": [
    "#### Change to relevant data type\n",
    "return host_clean_v3 dataframe"
   ]
  },
  {
   "cell_type": "code",
   "execution_count": 106,
   "metadata": {
    "scrolled": false
   },
   "outputs": [
    {
     "name": "stdout",
     "output_type": "stream",
     "text": [
      "(2749, 15)\n"
     ]
    }
   ],
   "source": [
    "# Convert into date time object\n",
    "print(host_clean_v2.shape)\n",
    "host_clean_v3 = break_date(host_clean_v2, 'host_since')"
   ]
  },
  {
   "cell_type": "code",
   "execution_count": 107,
   "metadata": {
    "scrolled": false
   },
   "outputs": [
    {
     "name": "stdout",
     "output_type": "stream",
     "text": [
      "(2749, 18)\n"
     ]
    }
   ],
   "source": [
    "print(host_clean_v3.shape) \n",
    "#host_clean_v3.info()\n",
    "#host_clean_v3.head()"
   ]
  },
  {
   "cell_type": "code",
   "execution_count": 108,
   "metadata": {},
   "outputs": [],
   "source": [
    "host = host_clean_v3"
   ]
  },
  {
   "cell_type": "markdown",
   "metadata": {},
   "source": [
    "---\n",
    "### Create a function for wrangling\n",
    "Checked if seattle and boston dataframe share all features in common : there are three features that Seattle listings dataset do not have, which however are not relevant for this analysis."
   ]
  },
  {
   "cell_type": "code",
   "execution_count": 219,
   "metadata": {},
   "outputs": [
    {
     "data": {
      "text/plain": [
       "Index(['access', 'interaction', 'house_rules'], dtype='object')"
      ]
     },
     "execution_count": 219,
     "metadata": {},
     "output_type": "execute_result"
    }
   ],
   "source": [
    "#listings_bos.columns.isin(listings_sea.columns)\n",
    "listings_bos.columns[12:15]"
   ]
  },
  {
   "cell_type": "code",
   "execution_count": 240,
   "metadata": {},
   "outputs": [],
   "source": [
    "def wrangle_airbnb_host_data(df) :\n",
    "    \n",
    "    # Check if input dataframe is 'listings' dataset\n",
    "    # Three three key columns must be inside the dataframe\n",
    "    key_cols= ['host_id', 'host_since', 'calculated_host_listings_count']\n",
    "    \n",
    "    if df.columns.isin(key_cols).sum() !=3 :\n",
    "        print('Check if input dataframe is correct or data format has been changed')\n",
    "        return \n",
    "    \n",
    "    print(f'Original dataframe has {df.shape[0]} x {df.shape[1]} dataset')\n",
    "    \n",
    "    df_copy = df.copy()\n",
    "    \n",
    "    # Drop uncessary columns\n",
    "    host_related  = df.loc[:, df.columns.str.contains('host')]\n",
    "    extra_info = df[['property_type', 'room_type', 'price']]\n",
    "    \n",
    "    host = cols_host.join(extra_info)\n",
    "    drop_cols = ['host_url', 'host_thumbnail_url', 'host_picture_url', 'host_verifications',\n",
    "                 'host_has_profile_pic', 'host_listings_count', 'host_total_listings_count']\n",
    "    host = host.drop(columns = drop_cols)\n",
    "    \n",
    "    # Drop duplicates\n",
    "    host = host.drop_duplicates(subset=['host_id'], keep='last')\n",
    "    \n",
    "    # Drop null \n",
    "    host = host[host['host_since'].notnull()]\n",
    "    \n",
    "    # Convert into date time object\n",
    "    host = break_date(host, 'host_since')\n",
    "    \n",
    "    \n",
    "    print(f'After wrangling : returning {host.shape[0]} x {host.shape[1]} dataset')\n",
    "    \n",
    "    return host\n",
    "    "
   ]
  },
  {
   "cell_type": "code",
   "execution_count": 242,
   "metadata": {
    "scrolled": true
   },
   "outputs": [
    {
     "name": "stdout",
     "output_type": "stream",
     "text": [
      "Original dataframe has 3818 x 92 dataset\n",
      "After wrangling : returning 2749 x 18 dataset\n",
      "Original dataframe has 3585 x 95 dataset\n",
      "After wrangling : returning 2749 x 18 dataset\n"
     ]
    }
   ],
   "source": [
    "host_seattle = wrangle_airbnb_host_data(listings_sea)\n",
    "host_boston = wrangle_airbnb_host_data(listings_bos)"
   ]
  },
  {
   "cell_type": "markdown",
   "metadata": {},
   "source": [
    "### How has number of hosing grown year on year?"
   ]
  },
  {
   "cell_type": "code",
   "execution_count": 109,
   "metadata": {
    "scrolled": true
   },
   "outputs": [],
   "source": [
    "analysis_new_hostings = host.groupby('year').count()['host_id']"
   ]
  },
  {
   "cell_type": "code",
   "execution_count": 110,
   "metadata": {},
   "outputs": [
    {
     "data": {
      "image/png": "[encoded data removed]",
      "text/plain": [
       "<Figure size 720x288 with 1 Axes>"
      ]
     },
     "metadata": {
      "needs_background": "light"
     },
     "output_type": "display_data"
    }
   ],
   "source": [
    "layout_obj = {\n",
    "    'title': 'Total hosting trend in 2016',\n",
    "    'xlabel': '',\n",
    "    'ylabel': 'number of total hostings'\n",
    "}\n",
    "\n",
    "plot_bar_chart(analysis_new_hostings.index, analysis_new_hostings.values, layout_obj)"
   ]
  },
  {
   "cell_type": "code",
   "execution_count": null,
   "metadata": {},
   "outputs": [],
   "source": []
  },
  {
   "cell_type": "markdown",
   "metadata": {},
   "source": [
    "### How has the number of listings evolved by month in 2016?"
   ]
  },
  {
   "cell_type": "code",
   "execution_count": 111,
   "metadata": {},
   "outputs": [],
   "source": [
    "group_total_listings = host.groupby('month').sum()['calculated_host_listings_count']\n",
    "\n",
    "group_total_listings.index = map_calendar_month(group_total_hostings.index)"
   ]
  },
  {
   "cell_type": "code",
   "execution_count": 112,
   "metadata": {},
   "outputs": [
    {
     "data": {
      "image/png": "[encoded data removed]",
      "text/plain": [
       "<Figure size 720x288 with 1 Axes>"
      ]
     },
     "metadata": {
      "needs_background": "light"
     },
     "output_type": "display_data"
    }
   ],
   "source": [
    "layout_obj = {\n",
    "    'title': 'Total Airbnb listings in 2016\\nSeattle area',\n",
    "    'xlabel': '',\n",
    "    'ylabel': 'number of total listings'\n",
    "}\n",
    "\n",
    "plot_bar_chart(group_total_hostings.index , group_total_hostings.values, layout_obj)"
   ]
  },
  {
   "cell_type": "code",
   "execution_count": null,
   "metadata": {},
   "outputs": [],
   "source": []
  },
  {
   "cell_type": "markdown",
   "metadata": {},
   "source": [
    "### How much percentage superhost accounts for?"
   ]
  },
  {
   "cell_type": "code",
   "execution_count": 114,
   "metadata": {},
   "outputs": [],
   "source": [
    "# Convert into binary data\n",
    "host.host_is_superhost = convert_binary_num(host.host_is_superhost)"
   ]
  },
  {
   "cell_type": "code",
   "execution_count": 195,
   "metadata": {},
   "outputs": [],
   "source": [
    "group_superhost = host.groupby('month')['host_is_superhost'].mean()"
   ]
  },
  {
   "cell_type": "code",
   "execution_count": 117,
   "metadata": {},
   "outputs": [],
   "source": [
    "group_superhost.index = map_calendar_month(group_superhost.index)"
   ]
  },
  {
   "cell_type": "code",
   "execution_count": 121,
   "metadata": {},
   "outputs": [
    {
     "data": {
      "image/png": "[encoded data removed]",
      "text/plain": [
       "<Figure size 720x288 with 1 Axes>"
      ]
     },
     "metadata": {
      "needs_background": "light"
     },
     "output_type": "display_data"
    }
   ],
   "source": [
    "layout_obj = {\n",
    "    'title'  : 'Perentage of superhost by month in 2016',\n",
    "    'xlabel' : '',\n",
    "    'tlabel' : 'percentage'\n",
    "}\n",
    "\n",
    "plot_bar_chart(group_superhost.index, group_superhost.values, layout_obj)"
   ]
  },
  {
   "cell_type": "markdown",
   "metadata": {},
   "source": [
    "### General hosting statistics "
   ]
  },
  {
   "cell_type": "markdown",
   "metadata": {},
   "source": [
    "hosting type by `property_type`, `room_type`, `price`"
   ]
  },
  {
   "cell_type": "code",
   "execution_count": 122,
   "metadata": {},
   "outputs": [],
   "source": [
    "property_type = host.property_type.value_counts()\n",
    "room_type = host.room_type.value_counts()"
   ]
  },
  {
   "cell_type": "code",
   "execution_count": 123,
   "metadata": {
    "scrolled": true
   },
   "outputs": [
    {
     "data": {
      "image/png": "[encoded data removed]",
      "text/plain": [
       "<Figure size 720x288 with 1 Axes>"
      ]
     },
     "metadata": {
      "needs_background": "light"
     },
     "output_type": "display_data"
    }
   ],
   "source": [
    "layout_obj = {\n",
    "    'title' : 'Seattle Airbnb Property type in 2016',\n",
    "    'xlabel': 'property type',\n",
    "    'ylabel': 'count'\n",
    "}\n",
    "\n",
    "plot_bar_chart(property_type.index, property_type.values, layout_obj, rotation=True)"
   ]
  },
  {
   "cell_type": "code",
   "execution_count": 194,
   "metadata": {
    "scrolled": true
   },
   "outputs": [
    {
     "data": {
      "image/png": "[encoded data removed]",
      "text/plain": [
       "<Figure size 432x288 with 1 Axes>"
      ]
     },
     "metadata": {},
     "output_type": "display_data"
    }
   ],
   "source": [
    "plt.pie(room_type.values, labels=room_type.index, startangle=90, \n",
    "        autopct='%1.2f%%', explode=(0.1, 0, 0))\n",
    "\n",
    "plt.title('Room type in 2016\\nSeattle Airbnb ')\n",
    "\n",
    "plt.show()"
   ]
  },
  {
   "cell_type": "code",
   "execution_count": 170,
   "metadata": {},
   "outputs": [
    {
     "name": "stdout",
     "output_type": "stream",
     "text": [
      "count    2749.000000\n",
      "mean      127.134958\n",
      "std        88.209640\n",
      "min        20.000000\n",
      "25%        75.000000\n",
      "50%       100.000000\n",
      "75%       150.000000\n",
      "max      1000.000000\n",
      "Name: price, dtype: float64\n"
     ]
    },
    {
     "data": {
      "image/png": "[encoded data removed]",
      "text/plain": [
       "<Figure size 720x216 with 1 Axes>"
      ]
     },
     "metadata": {
      "needs_background": "light"
     },
     "output_type": "display_data"
    }
   ],
   "source": [
    "print(host.price.describe())\n",
    "\n",
    "plt.figure(figsize=(10,3))\n",
    "sns.boxplot(host.price)\n",
    "\n",
    "plt.title('Statistics for hosting price')\n",
    "plt.xlabel('price ($)')\n",
    "plt.xlim((0,300))\n",
    "plt.show()"
   ]
  },
  {
   "cell_type": "markdown",
   "metadata": {},
   "source": [
    "### Not verified (extra)"
   ]
  },
  {
   "cell_type": "code",
   "execution_count": 176,
   "metadata": {},
   "outputs": [],
   "source": [
    "host.host_identity_verified = convert_binary_num(host.host_identity_verified)"
   ]
  },
  {
   "cell_type": "code",
   "execution_count": 182,
   "metadata": {},
   "outputs": [
    {
     "data": {
      "text/plain": [
       "[0.7519097853765006, 0.24809021462349945]"
      ]
     },
     "execution_count": 182,
     "metadata": {},
     "output_type": "execute_result"
    }
   ],
   "source": [
    "[verified_perc, 1-verified_perc]"
   ]
  },
  {
   "cell_type": "code",
   "execution_count": 193,
   "metadata": {},
   "outputs": [
    {
     "data": {
      "image/png": "[encoded data removed]",
      "text/plain": [
       "<Figure size 432x288 with 1 Axes>"
      ]
     },
     "metadata": {},
     "output_type": "display_data"
    }
   ],
   "source": [
    "verified_perc = host.host_identity_verified.mean()\n",
    "\n",
    "plt.pie([verified_perc, 1-verified_perc], labels=['Verified', 'Not verified'],\n",
    "        startangle=90, autopct='%1.2f%%', explode=(0.1, 0))\n",
    "\n",
    "plt.title('Percentage of Verified Host\\nSeattle Airbnb ')\n",
    "\n",
    "plt.show()"
   ]
  },
  {
   "cell_type": "markdown",
   "metadata": {},
   "source": [
    "---\n",
    "## `3.` By neighborhood"
   ]
  },
  {
   "cell_type": "code",
   "execution_count": null,
   "metadata": {},
   "outputs": [],
   "source": [
    "cols_neighbor = [\n",
    "    'id', 'neighborhood_overview', 'street', 'neighbourhood', 'neighbourhood_cleansed', \n",
    "    'neighbourhood_group_cleansed', 'city', 'state', 'zipcode', 'market', \n",
    "    'smart_location', 'country_code', 'country', 'latitude', 'longitude',\n",
    "    'is_location_exact', 'property_type', 'room_type', 'accommodates',\n",
    "    'bathrooms', 'bedrooms', 'beds', 'bed_type', 'amenities', 'square_feet', 'price', \n",
    "    'availability_30', 'availability_60', 'availability_90', \n",
    "    'availability_365'\n",
    "]"
   ]
  },
  {
   "cell_type": "code",
   "execution_count": null,
   "metadata": {},
   "outputs": [],
   "source": [
    "neighbor_original = listings_sea[cols_neighbor].copy()"
   ]
  },
  {
   "cell_type": "markdown",
   "metadata": {},
   "source": [
    "### Data cleaning"
   ]
  },
  {
   "cell_type": "code",
   "execution_count": null,
   "metadata": {},
   "outputs": [],
   "source": [
    "neighbor_clean_v0 = neighbor_original.copy()"
   ]
  },
  {
   "cell_type": "code",
   "execution_count": null,
   "metadata": {
    "scrolled": false
   },
   "outputs": [],
   "source": [
    "(neighbor_clean_v0.duplicated(subset=['id'], keep=False)).sum() # no duplicates"
   ]
  },
  {
   "cell_type": "code",
   "execution_count": null,
   "metadata": {},
   "outputs": [],
   "source": [
    "neighbor_clean_v0.price = convert_price_float(neighbor_clean_v0.price)"
   ]
  },
  {
   "cell_type": "code",
   "execution_count": null,
   "metadata": {
    "scrolled": false
   },
   "outputs": [],
   "source": [
    "neighbor_clean_v0.neighbourhood_cleansed.value_counts()"
   ]
  },
  {
   "cell_type": "code",
   "execution_count": null,
   "metadata": {
    "scrolled": false
   },
   "outputs": [],
   "source": [
    "group_avg_by_neighbor = neighbor_clean_v0.groupby('neighbourhood_cleansed').mean()"
   ]
  },
  {
   "cell_type": "code",
   "execution_count": null,
   "metadata": {
    "scrolled": false
   },
   "outputs": [],
   "source": [
    "group_avg_by_neighbor.plot(kind='scatter', x='longitude', y='latitude', c='price',\n",
    "                           colorbar=True, cmap='coolwarm')\n",
    "\n",
    "plt.xticks(visible = True)\n",
    "plt.show()"
   ]
  },
  {
   "cell_type": "code",
   "execution_count": null,
   "metadata": {},
   "outputs": [],
   "source": []
  },
  {
   "cell_type": "markdown",
   "metadata": {},
   "source": [
    "---\n",
    "<a id=\"bottom\"></a>\n",
    "[Go to the top](#top)\n",
    "\n",
    "<a id=\"function\"></a>\n",
    "[Go to functions](#function)"
   ]
  },
  {
   "cell_type": "code",
   "execution_count": null,
   "metadata": {},
   "outputs": [],
   "source": []
  }
 ],
 "metadata": {
  "kernelspec": {
   "display_name": "Python [conda env:my_env]",
   "language": "python",
   "name": "conda-env-my_env-py"
  },
  "language_info": {
   "codemirror_mode": {
    "name": "ipython",
    "version": 3
   },
   "file_extension": ".py",
   "mimetype": "text/x-python",
   "name": "python",
   "nbconvert_exporter": "python",
   "pygments_lexer": "ipython3",
   "version": "3.8.3"
  }
 },
 "nbformat": 4,
 "nbformat_minor": 4
}
