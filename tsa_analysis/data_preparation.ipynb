{
 "cells": [
  {
   "cell_type": "markdown",
   "metadata": {},
   "source": [
    "# Business understanding"
   ]
  },
  {
   "cell_type": "markdown",
   "metadata": {},
   "source": [
    "The objective is to perform a time series analysis and explore how well Airbnb performed for the past two years (2019 - 2020), taking COVID-19 effect always in consideration.\n",
    "\n",
    "Hong Kong is a specific city of interst for this analysis.\n",
    "\n",
    "his notebook only serves to proprocess extremely large datasets, and the actual analysis will be done in a seperate notebook `analysis.ipynb`"
   ]
  },
  {
   "cell_type": "markdown",
   "metadata": {},
   "source": [
    "Following ETL pipeline : Extract, Transform and Load"
   ]
  },
  {
   "cell_type": "code",
   "execution_count": 1,
   "metadata": {},
   "outputs": [],
   "source": [
    "import pandas as pd\n",
    "import numpy as np\n",
    "\n",
    "import os\n",
    "import re\n",
    "import random\n",
    "import gzip"
   ]
  },
  {
   "cell_type": "code",
   "execution_count": 60,
   "metadata": {},
   "outputs": [],
   "source": [
    "from sqlalchemy import create_engine"
   ]
  },
  {
   "cell_type": "code",
   "execution_count": 2,
   "metadata": {},
   "outputs": [],
   "source": [
    "%config Completer.use_jedi = False"
   ]
  },
  {
   "cell_type": "markdown",
   "metadata": {},
   "source": [
    "# STEP1 | Extract\n",
    "\n",
    "Datasets were downloaded from [Inside Airbnb](http://insideairbnb.com/get-the-data.html), and are saved as compressed gzip file. "
   ]
  },
  {
   "cell_type": "markdown",
   "metadata": {},
   "source": [
    "## Explore data"
   ]
  },
  {
   "cell_type": "markdown",
   "metadata": {},
   "source": [
    "### Explore file directory\n",
    "There are 20 data files categorized by published date (year, month). All are compressed by gzip. It is important to note that some periods are missing between 2020-06 and 2020-09."
   ]
  },
  {
   "cell_type": "code",
   "execution_count": 61,
   "metadata": {},
   "outputs": [
    {
     "name": "stdout",
     "output_type": "stream",
     "text": [
      "20 \n",
      " ['calendar_201901.csv.gz', 'calendar_201902.csv.gz', 'calendar_201903.csv.gz', 'calendar_201904.csv.gz', 'calendar_201905.csv.gz', 'calendar_201906.csv.gz', 'calendar_201907.csv.gz', 'calendar_201908.csv.gz', 'calendar_201909.csv.gz', 'calendar_201910.csv.gz', 'calendar_201911.csv.gz', 'calendar_201912.csv.gz', 'calendar_202001.csv.gz', 'calendar_202002.csv.gz', 'calendar_202003.csv.gz', 'calendar_202004.csv.gz', 'calendar_202005.csv.gz', 'calendar_202006.csv.gz', 'calendar_202010.csv.gz', 'calendar_202011.csv.gz']\n"
     ]
    }
   ],
   "source": [
    "DATA_DIR = sorted(os.listdir('data'))\n",
    "print(len(DATA_DIR), '\\n', DATA_DIR)"
   ]
  },
  {
   "cell_type": "markdown",
   "metadata": {},
   "source": [
    "## Load data \n",
    "Use `data/calendar_201901.csv.gz` for testing. Opening gzip file with pandas library."
   ]
  },
  {
   "cell_type": "code",
   "execution_count": 62,
   "metadata": {},
   "outputs": [],
   "source": [
    "df_test = pd.read_csv('data/calendar_201901.csv.gz', compression='gzip') "
   ]
  },
  {
   "cell_type": "code",
   "execution_count": 63,
   "metadata": {},
   "outputs": [
    {
     "data": {
      "text/html": [
       "<div>\n",
       "<style scoped>\n",
       "    .dataframe tbody tr th:only-of-type {\n",
       "        vertical-align: middle;\n",
       "    }\n",
       "\n",
       "    .dataframe tbody tr th {\n",
       "        vertical-align: top;\n",
       "    }\n",
       "\n",
       "    .dataframe thead th {\n",
       "        text-align: right;\n",
       "    }\n",
       "</style>\n",
       "<table border=\"1\" class=\"dataframe\">\n",
       "  <thead>\n",
       "    <tr style=\"text-align: right;\">\n",
       "      <th></th>\n",
       "      <th>listing_id</th>\n",
       "      <th>date</th>\n",
       "      <th>available</th>\n",
       "      <th>price</th>\n",
       "      <th>adjusted_price</th>\n",
       "      <th>minimum_nights</th>\n",
       "      <th>maximum_nights</th>\n",
       "    </tr>\n",
       "  </thead>\n",
       "  <tbody>\n",
       "    <tr>\n",
       "      <th>0</th>\n",
       "      <td>944283</td>\n",
       "      <td>2019-01-16</td>\n",
       "      <td>f</td>\n",
       "      <td>$941.00</td>\n",
       "      <td>$941.00</td>\n",
       "      <td>5</td>\n",
       "      <td>125</td>\n",
       "    </tr>\n",
       "    <tr>\n",
       "      <th>1</th>\n",
       "      <td>554138</td>\n",
       "      <td>2019-01-16</td>\n",
       "      <td>f</td>\n",
       "      <td>$750.00</td>\n",
       "      <td>$750.00</td>\n",
       "      <td>2</td>\n",
       "      <td>1125</td>\n",
       "    </tr>\n",
       "    <tr>\n",
       "      <th>2</th>\n",
       "      <td>554138</td>\n",
       "      <td>2019-01-17</td>\n",
       "      <td>f</td>\n",
       "      <td>$750.00</td>\n",
       "      <td>$750.00</td>\n",
       "      <td>2</td>\n",
       "      <td>1125</td>\n",
       "    </tr>\n",
       "    <tr>\n",
       "      <th>3</th>\n",
       "      <td>554138</td>\n",
       "      <td>2019-01-18</td>\n",
       "      <td>f</td>\n",
       "      <td>$750.00</td>\n",
       "      <td>$750.00</td>\n",
       "      <td>2</td>\n",
       "      <td>1125</td>\n",
       "    </tr>\n",
       "    <tr>\n",
       "      <th>4</th>\n",
       "      <td>554138</td>\n",
       "      <td>2019-01-19</td>\n",
       "      <td>f</td>\n",
       "      <td>$750.00</td>\n",
       "      <td>$750.00</td>\n",
       "      <td>2</td>\n",
       "      <td>1125</td>\n",
       "    </tr>\n",
       "  </tbody>\n",
       "</table>\n",
       "</div>"
      ],
      "text/plain": [
       "   listing_id        date available    price adjusted_price  minimum_nights  \\\n",
       "0      944283  2019-01-16         f  $941.00        $941.00               5   \n",
       "1      554138  2019-01-16         f  $750.00        $750.00               2   \n",
       "2      554138  2019-01-17         f  $750.00        $750.00               2   \n",
       "3      554138  2019-01-18         f  $750.00        $750.00               2   \n",
       "4      554138  2019-01-19         f  $750.00        $750.00               2   \n",
       "\n",
       "   maximum_nights  \n",
       "0             125  \n",
       "1            1125  \n",
       "2            1125  \n",
       "3            1125  \n",
       "4            1125  "
      ]
     },
     "execution_count": 63,
     "metadata": {},
     "output_type": "execute_result"
    }
   ],
   "source": [
    "df_test.head()"
   ]
  },
  {
   "cell_type": "code",
   "execution_count": 64,
   "metadata": {},
   "outputs": [
    {
     "name": "stdout",
     "output_type": "stream",
     "text": [
      "<class 'pandas.core.frame.DataFrame'>\n",
      "RangeIndex: 3824105 entries, 0 to 3824104\n",
      "Data columns (total 7 columns):\n",
      " #   Column          Dtype \n",
      "---  ------          ----- \n",
      " 0   listing_id      int64 \n",
      " 1   date            object\n",
      " 2   available       object\n",
      " 3   price           object\n",
      " 4   adjusted_price  object\n",
      " 5   minimum_nights  int64 \n",
      " 6   maximum_nights  int64 \n",
      "dtypes: int64(3), object(4)\n",
      "memory usage: 204.2+ MB\n"
     ]
    }
   ],
   "source": [
    "df_test.info()"
   ]
  },
  {
   "cell_type": "markdown",
   "metadata": {},
   "source": [
    "---\n",
    "# STEP2 | TRANFORM"
   ]
  },
  {
   "cell_type": "markdown",
   "metadata": {},
   "source": [
    "## Remove duplicates"
   ]
  },
  {
   "cell_type": "markdown",
   "metadata": {},
   "source": [
    "## Remove columns \n",
    "For this analysis, minimum_nights and maxmium_nights are not necessary.\n",
    "Also, price and adjusted_price share duplicated information. price column is to be dropped and adjusted_price column to be renamed as price. "
   ]
  },
  {
   "cell_type": "code",
   "execution_count": 66,
   "metadata": {},
   "outputs": [],
   "source": [
    "# Drop unnessary columns\n",
    "cols_drop = ['price', 'minimum_nights', 'maximum_nights']\n",
    "df_test.drop(columns = cols_drop, inplace=True)"
   ]
  },
  {
   "cell_type": "code",
   "execution_count": 67,
   "metadata": {},
   "outputs": [],
   "source": [
    "# Rename adjusted_price column to price\n",
    "df_test = df_test.rename(columns={'adjusted_price': 'price'})"
   ]
  },
  {
   "cell_type": "code",
   "execution_count": 68,
   "metadata": {},
   "outputs": [
    {
     "data": {
      "text/html": [
       "<div>\n",
       "<style scoped>\n",
       "    .dataframe tbody tr th:only-of-type {\n",
       "        vertical-align: middle;\n",
       "    }\n",
       "\n",
       "    .dataframe tbody tr th {\n",
       "        vertical-align: top;\n",
       "    }\n",
       "\n",
       "    .dataframe thead th {\n",
       "        text-align: right;\n",
       "    }\n",
       "</style>\n",
       "<table border=\"1\" class=\"dataframe\">\n",
       "  <thead>\n",
       "    <tr style=\"text-align: right;\">\n",
       "      <th></th>\n",
       "      <th>listing_id</th>\n",
       "      <th>date</th>\n",
       "      <th>available</th>\n",
       "      <th>price</th>\n",
       "    </tr>\n",
       "  </thead>\n",
       "  <tbody>\n",
       "    <tr>\n",
       "      <th>0</th>\n",
       "      <td>944283</td>\n",
       "      <td>2019-01-16</td>\n",
       "      <td>f</td>\n",
       "      <td>$941.00</td>\n",
       "    </tr>\n",
       "    <tr>\n",
       "      <th>1</th>\n",
       "      <td>554138</td>\n",
       "      <td>2019-01-16</td>\n",
       "      <td>f</td>\n",
       "      <td>$750.00</td>\n",
       "    </tr>\n",
       "    <tr>\n",
       "      <th>2</th>\n",
       "      <td>554138</td>\n",
       "      <td>2019-01-17</td>\n",
       "      <td>f</td>\n",
       "      <td>$750.00</td>\n",
       "    </tr>\n",
       "    <tr>\n",
       "      <th>3</th>\n",
       "      <td>554138</td>\n",
       "      <td>2019-01-18</td>\n",
       "      <td>f</td>\n",
       "      <td>$750.00</td>\n",
       "    </tr>\n",
       "    <tr>\n",
       "      <th>4</th>\n",
       "      <td>554138</td>\n",
       "      <td>2019-01-19</td>\n",
       "      <td>f</td>\n",
       "      <td>$750.00</td>\n",
       "    </tr>\n",
       "  </tbody>\n",
       "</table>\n",
       "</div>"
      ],
      "text/plain": [
       "   listing_id        date available    price\n",
       "0      944283  2019-01-16         f  $941.00\n",
       "1      554138  2019-01-16         f  $750.00\n",
       "2      554138  2019-01-17         f  $750.00\n",
       "3      554138  2019-01-18         f  $750.00\n",
       "4      554138  2019-01-19         f  $750.00"
      ]
     },
     "execution_count": 68,
     "metadata": {},
     "output_type": "execute_result"
    }
   ],
   "source": [
    "df_test.head()"
   ]
  },
  {
   "cell_type": "markdown",
   "metadata": {},
   "source": [
    "## Drop null"
   ]
  },
  {
   "cell_type": "code",
   "execution_count": 70,
   "metadata": {},
   "outputs": [
    {
     "data": {
      "text/plain": [
       "listing_id    0\n",
       "date          0\n",
       "available     0\n",
       "price         0\n",
       "dtype: int64"
      ]
     },
     "execution_count": 70,
     "metadata": {},
     "output_type": "execute_result"
    }
   ],
   "source": [
    "# Check for null values\n",
    "df_test.isnull().sum() # none!"
   ]
  },
  {
   "cell_type": "markdown",
   "metadata": {},
   "source": [
    "## Drop duplicates"
   ]
  },
  {
   "cell_type": "code",
   "execution_count": 73,
   "metadata": {},
   "outputs": [
    {
     "data": {
      "text/html": [
       "<div>\n",
       "<style scoped>\n",
       "    .dataframe tbody tr th:only-of-type {\n",
       "        vertical-align: middle;\n",
       "    }\n",
       "\n",
       "    .dataframe tbody tr th {\n",
       "        vertical-align: top;\n",
       "    }\n",
       "\n",
       "    .dataframe thead th {\n",
       "        text-align: right;\n",
       "    }\n",
       "</style>\n",
       "<table border=\"1\" class=\"dataframe\">\n",
       "  <thead>\n",
       "    <tr style=\"text-align: right;\">\n",
       "      <th></th>\n",
       "      <th>listing_id</th>\n",
       "      <th>date</th>\n",
       "      <th>available</th>\n",
       "      <th>price</th>\n",
       "    </tr>\n",
       "  </thead>\n",
       "  <tbody>\n",
       "  </tbody>\n",
       "</table>\n",
       "</div>"
      ],
      "text/plain": [
       "Empty DataFrame\n",
       "Columns: [listing_id, date, available, price]\n",
       "Index: []"
      ]
     },
     "execution_count": 73,
     "metadata": {},
     "output_type": "execute_result"
    }
   ],
   "source": [
    "df_test[df_test.duplicated()] # no duplicates!"
   ]
  },
  {
   "cell_type": "markdown",
   "metadata": {},
   "source": [
    "## Converting data \n",
    "Converting data to faciliate future analysis i.e. aggregation, groupby, etc"
   ]
  },
  {
   "cell_type": "markdown",
   "metadata": {},
   "source": [
    "### Convert datetime object to datetime index"
   ]
  },
  {
   "cell_type": "code",
   "execution_count": 74,
   "metadata": {},
   "outputs": [],
   "source": [
    "# Convert date string to datetime object\n",
    "df_test['date'] = pd.to_datetime(df_test['date'])"
   ]
  },
  {
   "cell_type": "code",
   "execution_count": 75,
   "metadata": {},
   "outputs": [],
   "source": [
    "# Set date index\n",
    "df_test = df_test.set_index('date')"
   ]
  },
  {
   "cell_type": "code",
   "execution_count": 76,
   "metadata": {},
   "outputs": [
    {
     "data": {
      "text/html": [
       "<div>\n",
       "<style scoped>\n",
       "    .dataframe tbody tr th:only-of-type {\n",
       "        vertical-align: middle;\n",
       "    }\n",
       "\n",
       "    .dataframe tbody tr th {\n",
       "        vertical-align: top;\n",
       "    }\n",
       "\n",
       "    .dataframe thead th {\n",
       "        text-align: right;\n",
       "    }\n",
       "</style>\n",
       "<table border=\"1\" class=\"dataframe\">\n",
       "  <thead>\n",
       "    <tr style=\"text-align: right;\">\n",
       "      <th></th>\n",
       "      <th>listing_id</th>\n",
       "      <th>available</th>\n",
       "      <th>price</th>\n",
       "    </tr>\n",
       "    <tr>\n",
       "      <th>date</th>\n",
       "      <th></th>\n",
       "      <th></th>\n",
       "      <th></th>\n",
       "    </tr>\n",
       "  </thead>\n",
       "  <tbody>\n",
       "    <tr>\n",
       "      <th>2019-01-16</th>\n",
       "      <td>944283</td>\n",
       "      <td>f</td>\n",
       "      <td>$941.00</td>\n",
       "    </tr>\n",
       "    <tr>\n",
       "      <th>2019-01-16</th>\n",
       "      <td>554138</td>\n",
       "      <td>f</td>\n",
       "      <td>$750.00</td>\n",
       "    </tr>\n",
       "    <tr>\n",
       "      <th>2019-01-17</th>\n",
       "      <td>554138</td>\n",
       "      <td>f</td>\n",
       "      <td>$750.00</td>\n",
       "    </tr>\n",
       "    <tr>\n",
       "      <th>2019-01-18</th>\n",
       "      <td>554138</td>\n",
       "      <td>f</td>\n",
       "      <td>$750.00</td>\n",
       "    </tr>\n",
       "    <tr>\n",
       "      <th>2019-01-19</th>\n",
       "      <td>554138</td>\n",
       "      <td>f</td>\n",
       "      <td>$750.00</td>\n",
       "    </tr>\n",
       "  </tbody>\n",
       "</table>\n",
       "</div>"
      ],
      "text/plain": [
       "            listing_id available    price\n",
       "date                                     \n",
       "2019-01-16      944283         f  $941.00\n",
       "2019-01-16      554138         f  $750.00\n",
       "2019-01-17      554138         f  $750.00\n",
       "2019-01-18      554138         f  $750.00\n",
       "2019-01-19      554138         f  $750.00"
      ]
     },
     "execution_count": 76,
     "metadata": {},
     "output_type": "execute_result"
    }
   ],
   "source": [
    "df_test.head()"
   ]
  },
  {
   "cell_type": "markdown",
   "metadata": {},
   "source": [
    "### Convert `available` column to binary numbers"
   ]
  },
  {
   "cell_type": "code",
   "execution_count": 77,
   "metadata": {},
   "outputs": [],
   "source": [
    "df_test['available'] = df_test['available'].map({'t': 1, 'f':0})"
   ]
  },
  {
   "cell_type": "markdown",
   "metadata": {},
   "source": [
    "### Convert `price` object to float"
   ]
  },
  {
   "cell_type": "code",
   "execution_count": 78,
   "metadata": {},
   "outputs": [],
   "source": [
    "# Firstly we need to remove sign $ and ,\n",
    "seperators = ['$', ',']\n",
    "\n",
    "for sep in seperators : \n",
    "    df_test['price'] = df_test['price'].str.replace(sep, '') "
   ]
  },
  {
   "cell_type": "code",
   "execution_count": 79,
   "metadata": {},
   "outputs": [],
   "source": [
    "# Convert date type to float\n",
    "df_test['price'] = df_test['price'].astype(float)"
   ]
  },
  {
   "cell_type": "code",
   "execution_count": 80,
   "metadata": {},
   "outputs": [
    {
     "name": "stdout",
     "output_type": "stream",
     "text": [
      "<class 'pandas.core.frame.DataFrame'>\n",
      "DatetimeIndex: 3824105 entries, 2019-01-16 to 2020-01-15\n",
      "Data columns (total 3 columns):\n",
      " #   Column      Dtype  \n",
      "---  ------      -----  \n",
      " 0   listing_id  int64  \n",
      " 1   available   int64  \n",
      " 2   price       float64\n",
      "dtypes: float64(1), int64(2)\n",
      "memory usage: 116.7 MB\n"
     ]
    }
   ],
   "source": [
    "df_test.info()"
   ]
  },
  {
   "cell_type": "markdown",
   "metadata": {},
   "source": [
    "## Filter data"
   ]
  },
  {
   "cell_type": "markdown",
   "metadata": {},
   "source": [
    "The dataset contains period beyond the actual month which is just projected based on the current month data. Any periods beyond the specific month can not provide market-based performance information, so need to be dropped. For example 2019-05 dataset is projected until 2020-05.\n",
    "\n",
    "Furthermore, each dataset does not have a clear collection period provided. For example, 2019-05 data starts from 2019-05-14, whereas 2019-01 data starts from 2019-01-16.  "
   ]
  },
  {
   "cell_type": "markdown",
   "metadata": {},
   "source": [
    "### Filtering method\n",
    "As it is hard to filter data exactly for the actual month, I will : \n",
    "\n",
    "1. group the data by each date. It is fine as I will not deal with individual 'listing' level analysis, but rather with daily time series analysis with aggrated data (by average). \n",
    "\n",
    "2. save the dataframe as `df_analysis`\n",
    "\n",
    "3. remove 'listing_id' column as it will not give any information after aggregation \n",
    "\n",
    "4. only collect the data up to +35 days from the available start date. This is to try to avoid missing data when concatenating different files, and at the same time to limit the data duplication as little as possible (less duplicated then the original +365 days for sure)."
   ]
  },
  {
   "cell_type": "code",
   "execution_count": 81,
   "metadata": {},
   "outputs": [],
   "source": [
    "# Group by date\n",
    "df_analysis = df_test.groupby('date').mean().copy()\n",
    "\n",
    "# Remove listing_id column\n",
    "df_analysis = df_analysis.drop(columns='listing_id')"
   ]
  },
  {
   "cell_type": "code",
   "execution_count": 82,
   "metadata": {
    "scrolled": true
   },
   "outputs": [
    {
     "data": {
      "text/html": [
       "<div>\n",
       "<style scoped>\n",
       "    .dataframe tbody tr th:only-of-type {\n",
       "        vertical-align: middle;\n",
       "    }\n",
       "\n",
       "    .dataframe tbody tr th {\n",
       "        vertical-align: top;\n",
       "    }\n",
       "\n",
       "    .dataframe thead th {\n",
       "        text-align: right;\n",
       "    }\n",
       "</style>\n",
       "<table border=\"1\" class=\"dataframe\">\n",
       "  <thead>\n",
       "    <tr style=\"text-align: right;\">\n",
       "      <th></th>\n",
       "      <th>available</th>\n",
       "      <th>price</th>\n",
       "    </tr>\n",
       "    <tr>\n",
       "      <th>date</th>\n",
       "      <th></th>\n",
       "      <th></th>\n",
       "    </tr>\n",
       "  </thead>\n",
       "  <tbody>\n",
       "    <tr>\n",
       "      <th>2019-01-16</th>\n",
       "      <td>0.317744</td>\n",
       "      <td>813.774172</td>\n",
       "    </tr>\n",
       "    <tr>\n",
       "      <th>2019-01-17</th>\n",
       "      <td>0.198721</td>\n",
       "      <td>817.817123</td>\n",
       "    </tr>\n",
       "    <tr>\n",
       "      <th>2019-01-18</th>\n",
       "      <td>0.255894</td>\n",
       "      <td>866.878591</td>\n",
       "    </tr>\n",
       "    <tr>\n",
       "      <th>2019-01-19</th>\n",
       "      <td>0.235086</td>\n",
       "      <td>882.824854</td>\n",
       "    </tr>\n",
       "    <tr>\n",
       "      <th>2019-01-20</th>\n",
       "      <td>0.309249</td>\n",
       "      <td>830.250549</td>\n",
       "    </tr>\n",
       "  </tbody>\n",
       "</table>\n",
       "</div>"
      ],
      "text/plain": [
       "            available       price\n",
       "date                             \n",
       "2019-01-16   0.317744  813.774172\n",
       "2019-01-17   0.198721  817.817123\n",
       "2019-01-18   0.255894  866.878591\n",
       "2019-01-19   0.235086  882.824854\n",
       "2019-01-20   0.309249  830.250549"
      ]
     },
     "execution_count": 82,
     "metadata": {},
     "output_type": "execute_result"
    }
   ],
   "source": [
    "df_analysis.head()"
   ]
  },
  {
   "cell_type": "code",
   "execution_count": 83,
   "metadata": {},
   "outputs": [
    {
     "data": {
      "text/html": [
       "<div>\n",
       "<style scoped>\n",
       "    .dataframe tbody tr th:only-of-type {\n",
       "        vertical-align: middle;\n",
       "    }\n",
       "\n",
       "    .dataframe tbody tr th {\n",
       "        vertical-align: top;\n",
       "    }\n",
       "\n",
       "    .dataframe thead th {\n",
       "        text-align: right;\n",
       "    }\n",
       "</style>\n",
       "<table border=\"1\" class=\"dataframe\">\n",
       "  <thead>\n",
       "    <tr style=\"text-align: right;\">\n",
       "      <th></th>\n",
       "      <th>available</th>\n",
       "      <th>price</th>\n",
       "    </tr>\n",
       "    <tr>\n",
       "      <th>date</th>\n",
       "      <th></th>\n",
       "      <th></th>\n",
       "    </tr>\n",
       "  </thead>\n",
       "  <tbody>\n",
       "    <tr>\n",
       "      <th>2019-02-15</th>\n",
       "      <td>0.495180</td>\n",
       "      <td>903.958862</td>\n",
       "    </tr>\n",
       "    <tr>\n",
       "      <th>2019-02-16</th>\n",
       "      <td>0.473513</td>\n",
       "      <td>915.112532</td>\n",
       "    </tr>\n",
       "    <tr>\n",
       "      <th>2019-02-17</th>\n",
       "      <td>0.507015</td>\n",
       "      <td>857.166937</td>\n",
       "    </tr>\n",
       "    <tr>\n",
       "      <th>2019-02-18</th>\n",
       "      <td>0.520092</td>\n",
       "      <td>849.563234</td>\n",
       "    </tr>\n",
       "    <tr>\n",
       "      <th>2019-02-19</th>\n",
       "      <td>0.523146</td>\n",
       "      <td>849.154434</td>\n",
       "    </tr>\n",
       "  </tbody>\n",
       "</table>\n",
       "</div>"
      ],
      "text/plain": [
       "            available       price\n",
       "date                             \n",
       "2019-02-15   0.495180  903.958862\n",
       "2019-02-16   0.473513  915.112532\n",
       "2019-02-17   0.507015  857.166937\n",
       "2019-02-18   0.520092  849.563234\n",
       "2019-02-19   0.523146  849.154434"
      ]
     },
     "execution_count": 83,
     "metadata": {},
     "output_type": "execute_result"
    }
   ],
   "source": [
    "# Limit the period to +35 days from the available start date\n",
    "df_analysis = df_analysis.iloc[:35]\n",
    "df_analysis.tail()"
   ]
  },
  {
   "cell_type": "markdown",
   "metadata": {},
   "source": [
    "<a id=\"wrangle\"></a>\n",
    "## Create a function for wrangling"
   ]
  },
  {
   "cell_type": "code",
   "execution_count": 84,
   "metadata": {},
   "outputs": [],
   "source": [
    "def wrangle_data(df) :\n",
    "    '''\n",
    "    Wrangle and transform a dataframe into a new dataframe ready for analysis.\n",
    "    Checking for null and duplicates are both important operations to ensure data quality.\n",
    "    Therefore, it will seperately be done after wrangling with this funciton.\n",
    "    \n",
    "    INPUT  : unclean dataframe\n",
    "    OUTPUT : a new dataframe ready for analysis     \n",
    "    '''\n",
    "    \n",
    "    # Copy dataframe for cleaning\n",
    "    df_copy = df.copy() \n",
    "    \n",
    "    # Remove unnecssary columns and rename adjusted_price column to price\n",
    "    cols_drop = ['price', 'minimum_nights', 'maximum_nights']\n",
    "    df_copy.drop(columns=cols_drop,inplace=True)\n",
    "    \n",
    "    # Rename adjusted_price column to price\n",
    "    df_copy = df_copy.rename(columns={'adjusted_price': 'price'})\n",
    "    \n",
    "    # Convert datetime object to datetime index\n",
    "    df_copy['date'] = pd.to_datetime(df_copy['date'])\n",
    "    df_copy = df_copy.set_index('date')\n",
    "    \n",
    "    # Convert 'avaiable' column to binary numbers\n",
    "    df_copy['available'] = df_copy['available'].map({'t':1, 'f':0})\n",
    "    \n",
    "    # Convert 'price' column to float date type\n",
    "    seperators = ['$', ',']\n",
    "    for sep in seperators : \n",
    "        df_copy['price'] = df_copy['price'].str.replace(sep, '')\n",
    "    \n",
    "    df_copy['price'] = df_copy['price'].astype(float)\n",
    "        \n",
    "    # Create analysis dataframe - aggregate records by date\n",
    "    df_analysis = df_copy.groupby('date').mean().copy()\n",
    "    \n",
    "    # Remove listing_id column (no longer useful)\n",
    "    df_analysis = df_analysis.drop(columns='listing_id')\n",
    "    \n",
    "    # Limit the period to +35 days from the available start date\n",
    "    df_analysis = df_analysis.iloc[:35].reset_index()\n",
    "    \n",
    "    return df_analysis"
   ]
  },
  {
   "cell_type": "code",
   "execution_count": 85,
   "metadata": {},
   "outputs": [],
   "source": [
    "# Testing 'wrangle_data' function with a random data\n",
    "rand_idx = np.random.randint(len(DATA_DIR))\n",
    "rand_file = os.path.join('data', DATA_DIR[rand_idx])\n",
    "\n",
    "# Load a new gzip data for testing\n",
    "df_rand = pd.read_csv(rand_file, compression='gzip')"
   ]
  },
  {
   "cell_type": "code",
   "execution_count": 86,
   "metadata": {},
   "outputs": [
    {
     "data": {
      "text/html": [
       "<div>\n",
       "<style scoped>\n",
       "    .dataframe tbody tr th:only-of-type {\n",
       "        vertical-align: middle;\n",
       "    }\n",
       "\n",
       "    .dataframe tbody tr th {\n",
       "        vertical-align: top;\n",
       "    }\n",
       "\n",
       "    .dataframe thead th {\n",
       "        text-align: right;\n",
       "    }\n",
       "</style>\n",
       "<table border=\"1\" class=\"dataframe\">\n",
       "  <thead>\n",
       "    <tr style=\"text-align: right;\">\n",
       "      <th></th>\n",
       "      <th>listing_id</th>\n",
       "      <th>date</th>\n",
       "      <th>available</th>\n",
       "      <th>price</th>\n",
       "      <th>adjusted_price</th>\n",
       "      <th>minimum_nights</th>\n",
       "      <th>maximum_nights</th>\n",
       "    </tr>\n",
       "  </thead>\n",
       "  <tbody>\n",
       "    <tr>\n",
       "      <th>0</th>\n",
       "      <td>1907254</td>\n",
       "      <td>2020-11-10</td>\n",
       "      <td>t</td>\n",
       "      <td>$1,124.00</td>\n",
       "      <td>$1,124.00</td>\n",
       "      <td>90</td>\n",
       "      <td>365</td>\n",
       "    </tr>\n",
       "    <tr>\n",
       "      <th>1</th>\n",
       "      <td>1907254</td>\n",
       "      <td>2020-11-11</td>\n",
       "      <td>f</td>\n",
       "      <td>$1,124.00</td>\n",
       "      <td>$1,124.00</td>\n",
       "      <td>90</td>\n",
       "      <td>365</td>\n",
       "    </tr>\n",
       "    <tr>\n",
       "      <th>2</th>\n",
       "      <td>1907254</td>\n",
       "      <td>2020-11-12</td>\n",
       "      <td>f</td>\n",
       "      <td>$1,124.00</td>\n",
       "      <td>$1,124.00</td>\n",
       "      <td>90</td>\n",
       "      <td>365</td>\n",
       "    </tr>\n",
       "    <tr>\n",
       "      <th>3</th>\n",
       "      <td>1907254</td>\n",
       "      <td>2020-11-13</td>\n",
       "      <td>f</td>\n",
       "      <td>$1,124.00</td>\n",
       "      <td>$1,124.00</td>\n",
       "      <td>90</td>\n",
       "      <td>365</td>\n",
       "    </tr>\n",
       "    <tr>\n",
       "      <th>4</th>\n",
       "      <td>1907254</td>\n",
       "      <td>2020-11-14</td>\n",
       "      <td>f</td>\n",
       "      <td>$1,124.00</td>\n",
       "      <td>$1,124.00</td>\n",
       "      <td>90</td>\n",
       "      <td>365</td>\n",
       "    </tr>\n",
       "  </tbody>\n",
       "</table>\n",
       "</div>"
      ],
      "text/plain": [
       "   listing_id        date available      price adjusted_price  minimum_nights  \\\n",
       "0     1907254  2020-11-10         t  $1,124.00      $1,124.00              90   \n",
       "1     1907254  2020-11-11         f  $1,124.00      $1,124.00              90   \n",
       "2     1907254  2020-11-12         f  $1,124.00      $1,124.00              90   \n",
       "3     1907254  2020-11-13         f  $1,124.00      $1,124.00              90   \n",
       "4     1907254  2020-11-14         f  $1,124.00      $1,124.00              90   \n",
       "\n",
       "   maximum_nights  \n",
       "0             365  \n",
       "1             365  \n",
       "2             365  \n",
       "3             365  \n",
       "4             365  "
      ]
     },
     "execution_count": 86,
     "metadata": {},
     "output_type": "execute_result"
    }
   ],
   "source": [
    "df_rand.head()"
   ]
  },
  {
   "cell_type": "code",
   "execution_count": 87,
   "metadata": {
    "scrolled": false
   },
   "outputs": [
    {
     "data": {
      "text/html": [
       "<div>\n",
       "<style scoped>\n",
       "    .dataframe tbody tr th:only-of-type {\n",
       "        vertical-align: middle;\n",
       "    }\n",
       "\n",
       "    .dataframe tbody tr th {\n",
       "        vertical-align: top;\n",
       "    }\n",
       "\n",
       "    .dataframe thead th {\n",
       "        text-align: right;\n",
       "    }\n",
       "</style>\n",
       "<table border=\"1\" class=\"dataframe\">\n",
       "  <thead>\n",
       "    <tr style=\"text-align: right;\">\n",
       "      <th></th>\n",
       "      <th>date</th>\n",
       "      <th>available</th>\n",
       "      <th>price</th>\n",
       "    </tr>\n",
       "  </thead>\n",
       "  <tbody>\n",
       "    <tr>\n",
       "      <th>0</th>\n",
       "      <td>2020-11-10</td>\n",
       "      <td>0.730003</td>\n",
       "      <td>703.635483</td>\n",
       "    </tr>\n",
       "    <tr>\n",
       "      <th>1</th>\n",
       "      <td>2020-11-11</td>\n",
       "      <td>0.441738</td>\n",
       "      <td>704.146139</td>\n",
       "    </tr>\n",
       "    <tr>\n",
       "      <th>2</th>\n",
       "      <td>2020-11-12</td>\n",
       "      <td>0.676723</td>\n",
       "      <td>704.775810</td>\n",
       "    </tr>\n",
       "    <tr>\n",
       "      <th>3</th>\n",
       "      <td>2020-11-13</td>\n",
       "      <td>0.698312</td>\n",
       "      <td>730.108220</td>\n",
       "    </tr>\n",
       "    <tr>\n",
       "      <th>4</th>\n",
       "      <td>2020-11-14</td>\n",
       "      <td>0.719208</td>\n",
       "      <td>736.865486</td>\n",
       "    </tr>\n",
       "  </tbody>\n",
       "</table>\n",
       "</div>"
      ],
      "text/plain": [
       "        date  available       price\n",
       "0 2020-11-10   0.730003  703.635483\n",
       "1 2020-11-11   0.441738  704.146139\n",
       "2 2020-11-12   0.676723  704.775810\n",
       "3 2020-11-13   0.698312  730.108220\n",
       "4 2020-11-14   0.719208  736.865486"
      ]
     },
     "execution_count": 87,
     "metadata": {},
     "output_type": "execute_result"
    }
   ],
   "source": [
    "df_rand_clean = wrangle_data(df_rand)\n",
    "df_rand_clean.head()"
   ]
  },
  {
   "cell_type": "code",
   "execution_count": 88,
   "metadata": {
    "scrolled": false
   },
   "outputs": [
    {
     "data": {
      "text/html": [
       "<div>\n",
       "<style scoped>\n",
       "    .dataframe tbody tr th:only-of-type {\n",
       "        vertical-align: middle;\n",
       "    }\n",
       "\n",
       "    .dataframe tbody tr th {\n",
       "        vertical-align: top;\n",
       "    }\n",
       "\n",
       "    .dataframe thead th {\n",
       "        text-align: right;\n",
       "    }\n",
       "</style>\n",
       "<table border=\"1\" class=\"dataframe\">\n",
       "  <thead>\n",
       "    <tr style=\"text-align: right;\">\n",
       "      <th></th>\n",
       "      <th>date</th>\n",
       "      <th>available</th>\n",
       "      <th>price</th>\n",
       "    </tr>\n",
       "  </thead>\n",
       "  <tbody>\n",
       "    <tr>\n",
       "      <th>30</th>\n",
       "      <td>2020-12-10</td>\n",
       "      <td>0.830888</td>\n",
       "      <td>710.936064</td>\n",
       "    </tr>\n",
       "    <tr>\n",
       "      <th>31</th>\n",
       "      <td>2020-12-11</td>\n",
       "      <td>0.827982</td>\n",
       "      <td>735.334763</td>\n",
       "    </tr>\n",
       "    <tr>\n",
       "      <th>32</th>\n",
       "      <td>2020-12-12</td>\n",
       "      <td>0.827429</td>\n",
       "      <td>738.651813</td>\n",
       "    </tr>\n",
       "    <tr>\n",
       "      <th>33</th>\n",
       "      <td>2020-12-13</td>\n",
       "      <td>0.830197</td>\n",
       "      <td>712.287296</td>\n",
       "    </tr>\n",
       "    <tr>\n",
       "      <th>34</th>\n",
       "      <td>2020-12-14</td>\n",
       "      <td>0.829643</td>\n",
       "      <td>711.867977</td>\n",
       "    </tr>\n",
       "  </tbody>\n",
       "</table>\n",
       "</div>"
      ],
      "text/plain": [
       "         date  available       price\n",
       "30 2020-12-10   0.830888  710.936064\n",
       "31 2020-12-11   0.827982  735.334763\n",
       "32 2020-12-12   0.827429  738.651813\n",
       "33 2020-12-13   0.830197  712.287296\n",
       "34 2020-12-14   0.829643  711.867977"
      ]
     },
     "execution_count": 88,
     "metadata": {},
     "output_type": "execute_result"
    }
   ],
   "source": [
    "df_rand_clean.tail()"
   ]
  },
  {
   "cell_type": "markdown",
   "metadata": {},
   "source": [
    "---\n",
    "# `STEP3` | Load date\n",
    "Use sqlalchemy engine and load data to a database.\n",
    "Set the name of database to be `airbnb_tsa.db` and the table name to be `performance` (analysis for Airbnb performance).\n",
    "\n",
    "Repeating the previous `import` and `transform`, on a new dataset `data/calendar_201901.csv.gz` "
   ]
  },
  {
   "cell_type": "code",
   "execution_count": 107,
   "metadata": {},
   "outputs": [
    {
     "data": {
      "text/html": [
       "<div>\n",
       "<style scoped>\n",
       "    .dataframe tbody tr th:only-of-type {\n",
       "        vertical-align: middle;\n",
       "    }\n",
       "\n",
       "    .dataframe tbody tr th {\n",
       "        vertical-align: top;\n",
       "    }\n",
       "\n",
       "    .dataframe thead th {\n",
       "        text-align: right;\n",
       "    }\n",
       "</style>\n",
       "<table border=\"1\" class=\"dataframe\">\n",
       "  <thead>\n",
       "    <tr style=\"text-align: right;\">\n",
       "      <th></th>\n",
       "      <th>listing_id</th>\n",
       "      <th>date</th>\n",
       "      <th>available</th>\n",
       "      <th>price</th>\n",
       "      <th>adjusted_price</th>\n",
       "      <th>minimum_nights</th>\n",
       "      <th>maximum_nights</th>\n",
       "    </tr>\n",
       "  </thead>\n",
       "  <tbody>\n",
       "    <tr>\n",
       "      <th>0</th>\n",
       "      <td>944283</td>\n",
       "      <td>2019-01-16</td>\n",
       "      <td>f</td>\n",
       "      <td>$941.00</td>\n",
       "      <td>$941.00</td>\n",
       "      <td>5</td>\n",
       "      <td>125</td>\n",
       "    </tr>\n",
       "    <tr>\n",
       "      <th>1</th>\n",
       "      <td>554138</td>\n",
       "      <td>2019-01-16</td>\n",
       "      <td>f</td>\n",
       "      <td>$750.00</td>\n",
       "      <td>$750.00</td>\n",
       "      <td>2</td>\n",
       "      <td>1125</td>\n",
       "    </tr>\n",
       "    <tr>\n",
       "      <th>2</th>\n",
       "      <td>554138</td>\n",
       "      <td>2019-01-17</td>\n",
       "      <td>f</td>\n",
       "      <td>$750.00</td>\n",
       "      <td>$750.00</td>\n",
       "      <td>2</td>\n",
       "      <td>1125</td>\n",
       "    </tr>\n",
       "    <tr>\n",
       "      <th>3</th>\n",
       "      <td>554138</td>\n",
       "      <td>2019-01-18</td>\n",
       "      <td>f</td>\n",
       "      <td>$750.00</td>\n",
       "      <td>$750.00</td>\n",
       "      <td>2</td>\n",
       "      <td>1125</td>\n",
       "    </tr>\n",
       "    <tr>\n",
       "      <th>4</th>\n",
       "      <td>554138</td>\n",
       "      <td>2019-01-19</td>\n",
       "      <td>f</td>\n",
       "      <td>$750.00</td>\n",
       "      <td>$750.00</td>\n",
       "      <td>2</td>\n",
       "      <td>1125</td>\n",
       "    </tr>\n",
       "  </tbody>\n",
       "</table>\n",
       "</div>"
      ],
      "text/plain": [
       "   listing_id        date available    price adjusted_price  minimum_nights  \\\n",
       "0      944283  2019-01-16         f  $941.00        $941.00               5   \n",
       "1      554138  2019-01-16         f  $750.00        $750.00               2   \n",
       "2      554138  2019-01-17         f  $750.00        $750.00               2   \n",
       "3      554138  2019-01-18         f  $750.00        $750.00               2   \n",
       "4      554138  2019-01-19         f  $750.00        $750.00               2   \n",
       "\n",
       "   maximum_nights  \n",
       "0             125  \n",
       "1            1125  \n",
       "2            1125  \n",
       "3            1125  \n",
       "4            1125  "
      ]
     },
     "execution_count": 107,
     "metadata": {},
     "output_type": "execute_result"
    }
   ],
   "source": [
    "# Import\n",
    "df = pd.read_csv('data/calendar_201901.csv.gz', compression='gzip')\n",
    "df.head()"
   ]
  },
  {
   "cell_type": "code",
   "execution_count": 108,
   "metadata": {},
   "outputs": [
    {
     "data": {
      "text/html": [
       "<div>\n",
       "<style scoped>\n",
       "    .dataframe tbody tr th:only-of-type {\n",
       "        vertical-align: middle;\n",
       "    }\n",
       "\n",
       "    .dataframe tbody tr th {\n",
       "        vertical-align: top;\n",
       "    }\n",
       "\n",
       "    .dataframe thead th {\n",
       "        text-align: right;\n",
       "    }\n",
       "</style>\n",
       "<table border=\"1\" class=\"dataframe\">\n",
       "  <thead>\n",
       "    <tr style=\"text-align: right;\">\n",
       "      <th></th>\n",
       "      <th>date</th>\n",
       "      <th>available</th>\n",
       "      <th>price</th>\n",
       "    </tr>\n",
       "  </thead>\n",
       "  <tbody>\n",
       "    <tr>\n",
       "      <th>0</th>\n",
       "      <td>2019-01-16</td>\n",
       "      <td>0.317744</td>\n",
       "      <td>813.774172</td>\n",
       "    </tr>\n",
       "    <tr>\n",
       "      <th>1</th>\n",
       "      <td>2019-01-17</td>\n",
       "      <td>0.198721</td>\n",
       "      <td>817.817123</td>\n",
       "    </tr>\n",
       "    <tr>\n",
       "      <th>2</th>\n",
       "      <td>2019-01-18</td>\n",
       "      <td>0.255894</td>\n",
       "      <td>866.878591</td>\n",
       "    </tr>\n",
       "    <tr>\n",
       "      <th>3</th>\n",
       "      <td>2019-01-19</td>\n",
       "      <td>0.235086</td>\n",
       "      <td>882.824854</td>\n",
       "    </tr>\n",
       "    <tr>\n",
       "      <th>4</th>\n",
       "      <td>2019-01-20</td>\n",
       "      <td>0.309249</td>\n",
       "      <td>830.250549</td>\n",
       "    </tr>\n",
       "  </tbody>\n",
       "</table>\n",
       "</div>"
      ],
      "text/plain": [
       "        date  available       price\n",
       "0 2019-01-16   0.317744  813.774172\n",
       "1 2019-01-17   0.198721  817.817123\n",
       "2 2019-01-18   0.255894  866.878591\n",
       "3 2019-01-19   0.235086  882.824854\n",
       "4 2019-01-20   0.309249  830.250549"
      ]
     },
     "execution_count": 108,
     "metadata": {},
     "output_type": "execute_result"
    }
   ],
   "source": [
    "# Transform\n",
    "analysis = wrangle_data(df)\n",
    "analysis.head()"
   ]
  },
  {
   "cell_type": "code",
   "execution_count": 109,
   "metadata": {},
   "outputs": [],
   "source": [
    "# Create an engine for loading the data\n",
    "engine = create_engine('sqlite:///airbnb_tsa.db')"
   ]
  },
  {
   "cell_type": "code",
   "execution_count": 110,
   "metadata": {},
   "outputs": [],
   "source": [
    "# Save it to 'performance' table\n",
    "# To stack data from multiple files, set if_exists='append'\n",
    "analysis.to_sql('performance', engine, if_exists='replace', index=False)"
   ]
  },
  {
   "cell_type": "code",
   "execution_count": 112,
   "metadata": {},
   "outputs": [
    {
     "data": {
      "text/plain": [
       "[('2019-01-16 00:00:00.000000', 0.31774362890140306, 813.7741719958003),\n",
       " ('2019-01-17 00:00:00.000000', 0.1987210079221151, 817.8171232222965),\n",
       " ('2019-01-18 00:00:00.000000', 0.25589386274696957, 866.8785911997709),\n",
       " ('2019-01-19 00:00:00.000000', 0.23508637968884222, 882.8248544430658),\n",
       " ('2019-01-20 00:00:00.000000', 0.3092488307721676, 830.2505488212274),\n",
       " ('2019-01-21 00:00:00.000000', 0.33206070440011454, 833.8614107091724),\n",
       " ('2019-01-22 00:00:00.000000', 0.34303712894912664, 832.8711463205116),\n",
       " ('2019-01-23 00:00:00.000000', 0.3550634723680443, 833.7834303712895),\n",
       " ('2019-01-24 00:00:00.000000', 0.37329388183640355, 832.9353822659158),\n",
       " ('2019-01-25 00:00:00.000000', 0.36355827049727973, 884.2108427985111)]"
      ]
     },
     "execution_count": 112,
     "metadata": {},
     "output_type": "execute_result"
    }
   ],
   "source": [
    "# Check if data is storted well \n",
    "engine.execute(\"SELECT * FROM performance\").fetchall()[:10]"
   ]
  },
  {
   "cell_type": "markdown",
   "metadata": {},
   "source": [
    "## Create data pipeline \n",
    "For the entire data files"
   ]
  },
  {
   "cell_type": "code",
   "execution_count": 131,
   "metadata": {},
   "outputs": [],
   "source": [
    "def extract_data(file_path) :\n",
    "    df = pd.read_csv(file_path, compression='gzip')    \n",
    "    return df\n",
    "    \n",
    "# def wrangle_data(df) \n",
    "\n",
    "def store_data(df, table='performance', db='airbnb_tsa.db') : \n",
    "    # Create engine\n",
    "    engine = create_engine(f\"sqlite:///{db}\") # be aware to wrap in \"\"(double quotes)\n",
    "    df.to_sql(table, engine, if_exists='append', index=False)"
   ]
  },
  {
   "cell_type": "code",
   "execution_count": 133,
   "metadata": {},
   "outputs": [
    {
     "name": "stdout",
     "output_type": "stream",
     "text": [
      "Successfully stored calendar_201901.csv.gz to db\n",
      "Successfully stored calendar_201902.csv.gz to db\n",
      "Successfully stored calendar_201903.csv.gz to db\n",
      "Successfully stored calendar_201904.csv.gz to db\n",
      "Successfully stored calendar_201905.csv.gz to db\n",
      "Successfully stored calendar_201906.csv.gz to db\n",
      "Successfully stored calendar_201907.csv.gz to db\n",
      "Successfully stored calendar_201908.csv.gz to db\n",
      "Successfully stored calendar_201909.csv.gz to db\n",
      "Successfully stored calendar_201910.csv.gz to db\n",
      "Successfully stored calendar_201911.csv.gz to db\n",
      "Successfully stored calendar_201912.csv.gz to db\n",
      "Successfully stored calendar_202001.csv.gz to db\n",
      "Successfully stored calendar_202002.csv.gz to db\n",
      "Successfully stored calendar_202003.csv.gz to db\n",
      "Successfully stored calendar_202004.csv.gz to db\n",
      "Successfully stored calendar_202005.csv.gz to db\n",
      "Successfully stored calendar_202006.csv.gz to db\n",
      "Successfully stored calendar_202010.csv.gz to db\n",
      "Successfully stored calendar_202011.csv.gz to db\n"
     ]
    }
   ],
   "source": [
    "def main() : \n",
    "    \n",
    "    # Path to data files     \n",
    "    DIR_NAME = 'data'\n",
    "    DATA_FILES = os.listdir('data')\n",
    "    \n",
    "    for file in sorted(DATA_FILES) : \n",
    "        \n",
    "        # Instantiate gzfile to open\n",
    "        gzfile = ''\n",
    "        \n",
    "        # Check if file is gzip\n",
    "        if not file.endswith('.gz') : \n",
    "            continue\n",
    "\n",
    "        else : \n",
    "            gzfile = os.path.join(DIR_NAME, file)\n",
    "                \n",
    "        # Extract gzfile to a dataframe\n",
    "        df = extract_data(gzfile)\n",
    "        \n",
    "        # Clean dataframe \n",
    "        df = wrangle_data(df)\n",
    "        \n",
    "        # Store clean data to 'airbnb_tsa.db' database\n",
    "        store_data(df)\n",
    "        \n",
    "        print(f'Successfully stored {file} to db')\n",
    "        \n",
    "main()"
   ]
  },
  {
   "cell_type": "code",
   "execution_count": 134,
   "metadata": {},
   "outputs": [
    {
     "data": {
      "text/plain": [
       "[('2019-01-16 00:00:00.000000', 0.31774362890140306, 813.7741719958003),\n",
       " ('2019-01-17 00:00:00.000000', 0.1987210079221151, 817.8171232222965),\n",
       " ('2019-01-18 00:00:00.000000', 0.25589386274696957, 866.8785911997709),\n",
       " ('2019-01-19 00:00:00.000000', 0.23508637968884222, 882.8248544430658),\n",
       " ('2019-01-20 00:00:00.000000', 0.3092488307721676, 830.2505488212274),\n",
       " ('2019-01-21 00:00:00.000000', 0.33206070440011454, 833.8614107091724),\n",
       " ('2019-01-22 00:00:00.000000', 0.34303712894912664, 832.8711463205116),\n",
       " ('2019-01-23 00:00:00.000000', 0.3550634723680443, 833.7834303712895),\n",
       " ('2019-01-24 00:00:00.000000', 0.37329388183640355, 832.9353822659158),\n",
       " ('2019-01-25 00:00:00.000000', 0.36355827049727973, 884.2108427985111),\n",
       " ('2019-01-26 00:00:00.000000', 0.34943208933855113, 897.2749832967453),\n",
       " ('2019-01-27 00:00:00.000000', 0.39515128376443637, 835.9721294263625),\n",
       " ('2019-01-28 00:00:00.000000', 0.41767681588240907, 831.9420635678152),\n",
       " ('2019-01-29 00:00:00.000000', 0.4399160064904076, 830.6390188030925),\n",
       " ('2019-01-30 00:00:00.000000', 0.46053259520855205, 831.5852820463873),\n",
       " ('2019-01-31 00:00:00.000000', 0.4739906461773408, 833.4521332442494),\n",
       " ('2019-02-01 00:00:00.000000', 0.4813400782666794, 909.2303140211893),\n",
       " ('2019-02-02 00:00:00.000000', 0.4684547103178391, 924.155769781426),\n",
       " ('2019-02-03 00:00:00.000000', 0.4559511310489644, 901.2186694664504),\n",
       " ('2019-02-04 00:00:00.000000', 0.4120454328529159, 953.6454137634819),\n",
       " ('2019-02-05 00:00:00.000000', 0.34990932518850815, 1022.577169036938),\n",
       " ('2019-02-06 00:00:00.000000', 0.29722248735324996, 1052.0819891190226),\n",
       " ('2019-02-07 00:00:00.000000', 0.28901403073398874, 1052.9586713753938),\n",
       " ('2019-02-08 00:00:00.000000', 0.31058509115204735, 1051.0270115491076),\n",
       " ('2019-02-09 00:00:00.000000', 0.373389329006395, 1034.6163023766346),\n",
       " ('2019-02-10 00:00:00.000000', 0.44984251216951415, 929.4445929178199),\n",
       " ('2019-02-11 00:00:00.000000', 0.48592154242626706, 872.5134103273838),\n",
       " ('2019-02-12 00:00:00.000000', 0.5032929273647037, 864.1866946645032),\n",
       " ('2019-02-13 00:00:00.000000', 0.5100696764340937, 859.4372434857306),\n",
       " ('2019-02-14 00:00:00.000000', 0.5094015462441539, 864.6027488784957),\n",
       " ('2019-02-15 00:00:00.000000', 0.4951799179154338, 903.9588622697337),\n",
       " ('2019-02-16 00:00:00.000000', 0.4735134103273838, 915.1125322134199),\n",
       " ('2019-02-17 00:00:00.000000', 0.5070153669943687, 857.166937100315),\n",
       " ('2019-02-18 00:00:00.000000', 0.5200916292831917, 849.5632337501193),\n",
       " ('2019-02-19 00:00:00.000000', 0.5231459387229168, 849.1544335210461),\n",
       " ('2019-02-08 00:00:00.000000', 0.12252591894439209, 1014.1007435333543),\n",
       " ('2019-02-09 00:00:00.000000', 0.12421961072346677, 986.3530113845023),\n",
       " ('2019-02-10 00:00:00.000000', 0.3027910392948953, 879.607969151671),\n",
       " ('2019-02-11 00:00:00.000000', 0.373760558207859, 836.0291957399927),\n",
       " ('2019-02-12 00:00:00.000000', 0.4148916636063166, 827.4536356959236),\n",
       " ('2019-02-13 00:00:00.000000', 0.4223283143591627, 824.6883951524054),\n",
       " ('2019-02-14 00:00:00.000000', 0.41553433712816745, 830.145060594932),\n",
       " ('2019-02-15 00:00:00.000000', 0.39744766801322073, 877.1318398824826),\n",
       " ('2019-02-16 00:00:00.000000', 0.37513771575468235, 891.0714285714286),\n",
       " ('2019-02-17 00:00:00.000000', 0.43444730077120824, 831.6729709878811),\n",
       " ('2019-02-18 00:00:00.000000', 0.44785163422695556, 824.5174439955931),\n",
       " ('2019-02-19 00:00:00.000000', 0.45620639001101726, 823.5411311053984),\n",
       " ('2019-02-20 00:00:00.000000', 0.4503305178112376, 821.7926000734484),\n",
       " ('2019-02-21 00:00:00.000000', 0.43683437385236873, 823.2015240543518),\n",
       " ('2019-02-22 00:00:00.000000', 0.42985677561513036, 872.2079507895703)]"
      ]
     },
     "execution_count": 134,
     "metadata": {},
     "output_type": "execute_result"
    }
   ],
   "source": [
    "# Check the data with a query\n",
    "engine.execute('SELECT * FROM performance').fetchall()[:50]"
   ]
  },
  {
   "cell_type": "code",
   "execution_count": 135,
   "metadata": {},
   "outputs": [
    {
     "data": {
      "text/plain": [
       "[('2020-11-14 00:00:00.000000', 0.8095436260230268, 733.692606464142),\n",
       " ('2020-11-15 00:00:00.000000', 0.8181439866833126, 706.6265778887501),\n",
       " ('2020-11-16 00:00:00.000000', 0.8218893050353725, 704.7856845609655),\n",
       " ('2020-11-17 00:00:00.000000', 0.8228603134970176, 704.6896934387571),\n",
       " ('2020-11-18 00:00:00.000000', 0.8203634345956443, 704.9101123595506),\n",
       " ('2020-11-19 00:00:00.000000', 0.8207795810792066, 711.9139963933972),\n",
       " ('2020-11-20 00:00:00.000000', 0.8211957275627687, 729.8650298238314),\n",
       " ('2020-11-21 00:00:00.000000', 0.8198085726175613, 725.7084200305175),\n",
       " ('2020-11-22 00:00:00.000000', 0.8272992093216812, 699.8343736995422),\n",
       " ('2020-11-23 00:00:00.000000', 0.8293799417394923, 698.1195727562769),\n",
       " ('2020-11-24 00:00:00.000000', 0.8306283811901789, 697.8042724372312),\n",
       " ('2020-11-25 00:00:00.000000', 0.8292412262449715, 698.3505340546538),\n",
       " ('2020-11-26 00:00:00.000000', 0.8306283811901789, 698.6029962546817),\n",
       " ('2020-11-27 00:00:00.000000', 0.8303509502011375, 723.3033707865169),\n",
       " ('2020-11-28 00:00:00.000000', 0.8306283811901789, 726.3014287695936),\n",
       " ('2020-11-10 00:00:00.000000', 0.7300027677830058, 703.6354829781345),\n",
       " ('2020-11-11 00:00:00.000000', 0.4417381677276502, 704.1461389427069),\n",
       " ('2020-11-12 00:00:00.000000', 0.6767229449211182, 704.7758095765292),\n",
       " ('2020-11-13 00:00:00.000000', 0.6983116523664544, 730.1082203155273),\n",
       " ('2020-11-14 00:00:00.000000', 0.7192084140603376, 736.8654857459176),\n",
       " ('2020-11-15 00:00:00.000000', 0.7362302795460836, 707.0329366177692),\n",
       " ('2020-11-16 00:00:00.000000', 0.7421810130085801, 705.5127318018267),\n",
       " ('2020-11-17 00:00:00.000000', 0.7419042347079989, 706.2791309161362),\n",
       " ('2020-11-18 00:00:00.000000', 0.7612787157486853, 706.3649321893164),\n",
       " ('2020-11-19 00:00:00.000000', 0.762109050650429, 713.5631054525326),\n",
       " ('2020-11-20 00:00:00.000000', 0.7615554940492666, 732.3436202601716),\n",
       " ('2020-11-21 00:00:00.000000', 0.7569886520896761, 729.4011901466924),\n",
       " ('2020-11-22 00:00:00.000000', 0.7705507888181566, 702.7513146969278),\n",
       " ('2020-11-23 00:00:00.000000', 0.7734569609742596, 701.1006089122612),\n",
       " ('2020-11-24 00:00:00.000000', 0.7766399114309438, 701.0831718793247),\n",
       " ('2020-11-25 00:00:00.000000', 0.7769166897315251, 701.6159701079436),\n",
       " ('2020-11-26 00:00:00.000000', 0.7796844727373374, 702.1054525325214),\n",
       " ('2020-11-27 00:00:00.000000', 0.7799612510379186, 727.1346526432328),\n",
       " ('2020-11-28 00:00:00.000000', 0.7788541378355937, 731.4302518682535),\n",
       " ('2020-11-29 00:00:00.000000', 0.7860503736507057, 714.5744533628564),\n",
       " ('2020-11-30 00:00:00.000000', 0.7954608358704678, 706.2158870744533),\n",
       " ('2020-12-01 00:00:00.000000', 0.8155272626626072, 709.1060060891226),\n",
       " ('2020-12-02 00:00:00.000000', 0.8153888735123166, 709.3894270689178),\n",
       " ('2020-12-03 00:00:00.000000', 0.8184334348187102, 709.5402712427345),\n",
       " ('2020-12-04 00:00:00.000000', 0.8194021588707445, 734.190008303349),\n",
       " ('2020-12-05 00:00:00.000000', 0.8221699418765569, 738.0577082756712),\n",
       " ('2020-12-06 00:00:00.000000', 0.8270135621367285, 711.5954885137005),\n",
       " ('2020-12-07 00:00:00.000000', 0.8275671187378909, 710.3964849155826),\n",
       " ('2020-12-08 00:00:00.000000', 0.8307500691945752, 717.1736783836147),\n",
       " ('2020-12-09 00:00:00.000000', 0.8304732908939939, 710.537641848879),\n",
       " ('2020-12-10 00:00:00.000000', 0.8308884583448658, 710.9360642125657),\n",
       " ('2020-12-11 00:00:00.000000', 0.8279822861887628, 735.334763354553),\n",
       " ('2020-12-12 00:00:00.000000', 0.8274287295876004, 738.6518128978688),\n",
       " ('2020-12-13 00:00:00.000000', 0.8301965125934126, 712.2872958760033),\n",
       " ('2020-12-14 00:00:00.000000', 0.8296429559922502, 711.8679767506228)]"
      ]
     },
     "execution_count": 135,
     "metadata": {},
     "output_type": "execute_result"
    }
   ],
   "source": [
    "engine.execute('SELECT * FROM performance').fetchall()[-50:]"
   ]
  },
  {
   "cell_type": "code",
   "execution_count": null,
   "metadata": {},
   "outputs": [],
   "source": [
    "df.drop_duplicates(keep: 'last')"
   ]
  },
  {
   "cell_type": "markdown",
   "metadata": {},
   "source": [
    "It looks okay! Still there are some things to remember when loading to use the data for analysis.\n",
    "    \n",
    "1. Check fo null values    \n",
    "2. Check for duplicates\n",
    "3. Check for missing dates (some periods are missing, which may need imputation)\n",
    "\n",
    "When it comes to duplicates, we filtered +35 days records from the start date in order to avoid any missing date (as much as possible) from concatenation. As a result, there are some duplicated dates seen in the database (i.e. '2020-11-14', etc), which need to be dropped. When using pandas\\'s `drop_duplicates` method, parameter must be set to `keep='last'` in order to keep more recent data.\n"
   ]
  },
  {
   "cell_type": "code",
   "execution_count": null,
   "metadata": {},
   "outputs": [],
   "source": []
  }
 ],
 "metadata": {
  "kernelspec": {
   "display_name": "Python 3",
   "language": "python",
   "name": "python3"
  },
  "language_info": {
   "codemirror_mode": {
    "name": "ipython",
    "version": 3
   },
   "file_extension": ".py",
   "mimetype": "text/x-python",
   "name": "python",
   "nbconvert_exporter": "python",
   "pygments_lexer": "ipython3",
   "version": "3.8.5"
  }
 },
 "nbformat": 4,
 "nbformat_minor": 4
}
